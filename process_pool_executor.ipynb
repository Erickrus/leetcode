{
  "nbformat": 4,
  "nbformat_minor": 0,
  "metadata": {
    "colab": {
      "name": "process_pool_executor.ipynb",
      "provenance": []
    },
    "kernelspec": {
      "name": "python3",
      "display_name": "Python 3"
    },
    "language_info": {
      "name": "python"
    }
  },
  "cells": [
    {
      "cell_type": "code",
      "metadata": {
        "colab": {
          "base_uri": "https://localhost:8080/"
        },
        "id": "z5XiuuQe4n8P",
        "outputId": "9cbd7b6f-1930-47ab-97bb-f80bd690bb02"
      },
      "source": [
        "import concurrent.futures\n",
        "import math\n",
        "import time\n",
        "import datetime\n",
        "\n",
        "\n",
        "PRIMES = [\n",
        "    112272535095293,\n",
        "    112582705942171,\n",
        "    2,\n",
        "    112272535095293,\n",
        "    115280095190773,\n",
        "    1,\n",
        "    115797848077099,\n",
        "    1099726899285419]\n",
        "\n",
        "result = []\n",
        "def is_prime(n):\n",
        "  print(datetime.datetime.now())\n",
        "  #time.sleep(10)\n",
        "  result = []\n",
        "  if n < 2:\n",
        "    result.append([n, False])\n",
        "    return result\n",
        "  if n == 2:\n",
        "    result.append([n, True])\n",
        "    return result\n",
        "  if n % 2 == 0:\n",
        "    result.append([n, False])\n",
        "    return result\n",
        "\n",
        "  sqrt_n = int(math.floor(math.sqrt(n)))\n",
        "  for i in range(3, sqrt_n + 1, 2):\n",
        "    if n % i == 0:\n",
        "      result.append([n, False])\n",
        "      return result\n",
        "  result.append([n, True])\n",
        "  return result\n",
        "\n",
        "def main():\n",
        "  r = []\n",
        "  with concurrent.futures.ProcessPoolExecutor(max_workers=10) as executor:\n",
        "    for i in range(len(PRIMES)):\n",
        "      r.append(executor.submit(is_prime, PRIMES[i]))\n",
        "    executor.shutdown(wait=True)\n",
        "  \n",
        "  for i in range(len(PRIMES)):\n",
        "    print(r[i].result())\n",
        "main()\n"
      ],
      "execution_count": 47,
      "outputs": [
        {
          "output_type": "stream",
          "text": [
            "2021-04-24 03:44:39.543318\n",
            "2021-04-24 03:44:39.542480\n",
            "2021-04-24 03:44:39.545822\n",
            "2021-04-24 03:44:39.557130\n",
            "2021-04-24 03:44:39.572879\n",
            "2021-04-24 03:44:39.570502\n",
            "2021-04-24 03:44:39.567993\n",
            "2021-04-24 03:44:39.574900\n",
            "2021-04-24 03:44:43.391937\n",
            "[[112272535095293, True]]\n",
            "[[112582705942171, True]]\n",
            "[[2, True]]\n",
            "[[112272535095293, True]]\n",
            "[[115280095190773, True]]\n",
            "[[1, False]]\n",
            "[[115797848077099, True]]\n",
            "[[1099726899285419, False]]\n"
          ],
          "name": "stdout"
        }
      ]
    },
    {
      "cell_type": "code",
      "metadata": {
        "colab": {
          "base_uri": "https://localhost:8080/"
        },
        "id": "Z-8av3_78VvD",
        "outputId": "5098e2a8-3c91-4157-a529-4bb2418fd765"
      },
      "source": [
        "result"
      ],
      "execution_count": 31,
      "outputs": [
        {
          "output_type": "execute_result",
          "data": {
            "text/plain": [
              "[]"
            ]
          },
          "metadata": {
            "tags": []
          },
          "execution_count": 31
        }
      ]
    }
  ]
}