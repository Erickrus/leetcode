{
  "nbformat": 4,
  "nbformat_minor": 0,
  "metadata": {
    "colab": {
      "name": "Untitled0.ipynb",
      "version": "0.3.2",
      "provenance": [],
      "collapsed_sections": [],
      "include_colab_link": true
    },
    "kernelspec": {
      "name": "python3",
      "display_name": "Python 3"
    }
  },
  "cells": [
    {
      "cell_type": "markdown",
      "metadata": {
        "id": "view-in-github",
        "colab_type": "text"
      },
      "source": [
        "<a href=\"https://colab.research.google.com/github/Erickrus/leetcode/blob/master/hill_climbing.ipynb\" target=\"_parent\"><img src=\"https://colab.research.google.com/assets/colab-badge.svg\" alt=\"Open In Colab\"/></a>"
      ]
    },
    {
      "metadata": {
        "id": "mSzomZJJRu8a",
        "colab_type": "code",
        "colab": {
          "base_uri": "https://localhost:8080/",
          "height": 53
        },
        "outputId": "a647dbdb-67fc-4a27-86b1-ed26ed0ae967"
      },
      "cell_type": "code",
      "source": [
        "# Discrete Space Hill Climbing Algorithm\n",
        "# https://en.wikipedia.org/wiki/Hill_climbing\n",
        "def hill_climb(area, startNode):\n",
        "  i = 0\n",
        "  currNode = startNode;  \n",
        "  # loop do\n",
        "  while True:\n",
        "    # L = NEIGHBORS(currentNode);\n",
        "    neighborList = neighbors(area, currNode)\n",
        "    nextVal, nextNode = -9999, -1\n",
        "    for node in neighborList:\n",
        "      if area[node] > nextVal:\n",
        "        nextNode = node\n",
        "        nextVal = area[node]\n",
        "    if nextVal <= area[currNode]:\n",
        "      # Return current node since no better neighbors exist\n",
        "      return currNode\n",
        "    currNode = nextNode\n",
        "    i += 1\n",
        "    if i > len(area) * 5:\n",
        "      print(\"exiting\")\n",
        "      return currNode\n",
        "\n",
        "def neighbors(area, currNode):\n",
        "  size,res = 3, []\n",
        "  # left pass\n",
        "  i = 1\n",
        "  while i <= size and currNode-i>0:\n",
        "    res.append(currNode-i)\n",
        "    i += 1\n",
        "  # right pass\n",
        "  i = 1\n",
        "  while i <= size and currNode+i<len(area)-1:\n",
        "    res.append(currNode+i)\n",
        "    i += 1\n",
        "  return res\n",
        "area = [1,2,3,5,4,6,7,11,5,6,6,6,6,6,10,12,12,5,2,2,2,0]\n",
        "\n",
        "# approaching from the start\n",
        "node = hill_climb(area,0)\n",
        "print(\"area[%d] = %d\"%(node, area[node]))\n",
        "\n",
        "# approaching from the end\n",
        "node = hill_climb(area,len(area)-4)\n",
        "print(\"area[%d] = %d\"%(node, area[node]))\n"
      ],
      "execution_count": 18,
      "outputs": [
        {
          "output_type": "stream",
          "text": [
            "area[7] = 11\n",
            "area[16] = 12\n"
          ],
          "name": "stdout"
        }
      ]
    }
  ]
}