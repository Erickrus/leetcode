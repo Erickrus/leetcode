{
  "nbformat": 4,
  "nbformat_minor": 0,
  "metadata": {
    "colab": {
      "provenance": [],
      "collapsed_sections": [
        "XC6PidnDHP3M",
        "UmFHvvM1GDUu",
        "BAK6POjGHCxH",
        "Fpq3wLN3I_RW",
        "FGfH36ObPGxx"
      ],
      "authorship_tag": "ABX9TyPSgxVzLt6ksSnIhHt40mAn",
      "include_colab_link": true
    },
    "kernelspec": {
      "name": "python3",
      "display_name": "Python 3"
    },
    "language_info": {
      "name": "python"
    },
    "accelerator": "GPU",
    "gpuClass": "standard"
  },
  "cells": [
    {
      "cell_type": "markdown",
      "metadata": {
        "id": "view-in-github",
        "colab_type": "text"
      },
      "source": [
        "<a href=\"https://colab.research.google.com/github/Erickrus/leetcode/blob/master/StableDiffusionPytorch.ipynb\" target=\"_parent\"><img src=\"https://colab.research.google.com/assets/colab-badge.svg\" alt=\"Open In Colab\"/></a>"
      ]
    },
    {
      "cell_type": "markdown",
      "source": [
        "# Diffusion Models\n",
        "This is an easy-to-understand implementation of diffusion models within 100 lines of code. Different from other implementations, this code doesn't use the lower-bound formulation for sampling and strictly follows Algorithm 1 from the [DDPM](https://arxiv.org/pdf/2006.11239.pdf) paper, which makes it extremely short and easy to follow. There is only one implementation: `unconditional` in this notebook. Below you can find two explanation videos for the theory behind diffusion models and the implementation.\n",
        "\n",
        "<a href=\"https://www.youtube.com/watch?v=HoKDTa5jHvg\">\n",
        "   <img alt=\"Qries\" src=\"https://user-images.githubusercontent.com/61938694/191407922-f613759e-4bea-4ac9-9135-d053a6312421.jpg\"\n",
        "   width=\"300\">\n",
        "</a>\n",
        "\n",
        "<a href=\"https://www.youtube.com/watch?v=TBCRlnwJtZU\">\n",
        "   <img alt=\"Qries\" src=\"https://user-images.githubusercontent.com/61938694/191407849-6d0376c7-05b2-43cd-a75c-1280b0e33af1.png\"\n",
        "   width=\"300\">\n",
        "</a>\n",
        "\n",
        "<hr>\n"
      ],
      "metadata": {
        "id": "N04LD306wMEg"
      }
    },
    {
      "cell_type": "markdown",
      "source": [
        "### prepare CIFAR-10 dataset"
      ],
      "metadata": {
        "id": "XC6PidnDHP3M"
      }
    },
    {
      "cell_type": "code",
      "source": [
        "#@title download CIFAR-10 dataset\n",
        "%cd /content\n",
        "!rm -Rf /content/ddpm\n",
        "!rm -Rf /content/CIFAR-10-images\n",
        "!git clone https://github.com/YoongiKim/CIFAR-10-images\n",
        "!mkdir /content/ddpm\n"
      ],
      "metadata": {
        "colab": {
          "base_uri": "https://localhost:8080/"
        },
        "id": "N3VenSfKqL1D",
        "outputId": "ac6a1eeb-3b82-4ef6-9fea-cf5dbb8b28a1"
      },
      "execution_count": 47,
      "outputs": [
        {
          "output_type": "stream",
          "name": "stdout",
          "text": [
            "/content\n",
            "Cloning into 'CIFAR-10-images'...\n",
            "remote: Enumerating objects: 60027, done.\u001b[K\n",
            "remote: Total 60027 (delta 0), reused 0 (delta 0), pack-reused 60027\u001b[K\n",
            "Receiving objects: 100% (60027/60027), 19.94 MiB | 17.25 MiB/s, done.\n",
            "Resolving deltas: 100% (59990/59990), done.\n",
            "Checking out files: 100% (60001/60001), done.\n"
          ]
        }
      ]
    },
    {
      "cell_type": "code",
      "source": [
        "#@title shink dataset size\n",
        "#@markdown Image to keep per category\n",
        "imageToKeep = 80 #@param {\"type\":\"integer\"}\n",
        "\n",
        "print(\"It takes a while, and please wait ...\")\n",
        "import glob, os\n",
        "for filename in glob.glob(\"/content/CIFAR-10-images/test/**/*.jpg\"):\n",
        "  shortFilename = os.path.basename(filename).replace(\".jpg\",\"\")\n",
        "  fileId = int(shortFilename)\n",
        "  if fileId >= imageToKeep:\n",
        "    os.system(\"rm %s\" % filename)\n",
        "print(len(glob.glob(\"/content/CIFAR-10-images/test/**/*.jpg\")))\n"
      ],
      "metadata": {
        "colab": {
          "base_uri": "https://localhost:8080/"
        },
        "id": "cf_puzcw06ci",
        "outputId": "812d1366-9105-435e-9045-ed980e59ff9a"
      },
      "execution_count": 8,
      "outputs": [
        {
          "output_type": "stream",
          "name": "stdout",
          "text": [
            "It takes a while, and please wait ...\n",
            "800\n"
          ]
        }
      ]
    },
    {
      "cell_type": "markdown",
      "source": [
        "### modules.py"
      ],
      "metadata": {
        "id": "UmFHvvM1GDUu"
      }
    },
    {
      "cell_type": "code",
      "source": [
        "#@title SelfAttention\n",
        "#@markdown self attention\n",
        "import torch\n",
        "import torch.nn as nn\n",
        "import torch.nn.functional as F\n",
        "\n",
        "class SelfAttention(nn.Module):\n",
        "    def __init__(self, channels, size):\n",
        "        super(SelfAttention, self).__init__()\n",
        "        self.channels = channels\n",
        "        self.size = size\n",
        "        self.mha = nn.MultiheadAttention(channels, 4, batch_first=True)\n",
        "        self.ln = nn.LayerNorm([channels])\n",
        "        self.ff_self = nn.Sequential(\n",
        "            nn.LayerNorm([channels]),\n",
        "            nn.Linear(channels, channels),\n",
        "            nn.GELU(),\n",
        "            nn.Linear(channels, channels),\n",
        "        )\n",
        "\n",
        "    def forward(self, x):\n",
        "        x = x.view(-1, self.channels, self.size * self.size).swapaxes(1, 2)\n",
        "        x_ln = self.ln(x)\n",
        "        attention_value, _ = self.mha(x_ln, x_ln, x_ln)\n",
        "        attention_value = attention_value + x\n",
        "        attention_value = self.ff_self(attention_value) + attention_value\n",
        "        return attention_value.swapaxes(2, 1).view(-1, self.channels, self.size, self.size)\n"
      ],
      "metadata": {
        "id": "sFJsW_EVw2hR",
        "cellView": "form"
      },
      "execution_count": 10,
      "outputs": []
    },
    {
      "cell_type": "code",
      "source": [
        "#@title DoubleConv\n",
        "#@markdown double convolution\n",
        "class DoubleConv(nn.Module):\n",
        "    def __init__(self, in_channels, out_channels, mid_channels=None, residual=False):\n",
        "        super().__init__()\n",
        "        self.residual = residual\n",
        "        if not mid_channels:\n",
        "            mid_channels = out_channels\n",
        "        self.double_conv = nn.Sequential(\n",
        "            nn.Conv2d(in_channels, mid_channels, kernel_size=3, padding=1, bias=False),\n",
        "            nn.GroupNorm(1, mid_channels),\n",
        "            nn.GELU(),\n",
        "            nn.Conv2d(mid_channels, out_channels, kernel_size=3, padding=1, bias=False),\n",
        "            nn.GroupNorm(1, out_channels),\n",
        "        )\n",
        "\n",
        "    def forward(self, x):\n",
        "        if self.residual:\n",
        "            return F.gelu(x + self.double_conv(x))\n",
        "        else:\n",
        "            return self.double_conv(x)\n",
        "\n"
      ],
      "metadata": {
        "cellView": "form",
        "id": "13urmSLyGR7G"
      },
      "execution_count": 11,
      "outputs": []
    },
    {
      "cell_type": "code",
      "source": [
        "#@title Down\n",
        "#@markdown downsample process\n",
        "class Down(nn.Module):\n",
        "    def __init__(self, in_channels, out_channels, emb_dim=256):\n",
        "        super().__init__()\n",
        "        self.maxpool_conv = nn.Sequential(\n",
        "            nn.MaxPool2d(2),\n",
        "            DoubleConv(in_channels, in_channels, residual=True),\n",
        "            DoubleConv(in_channels, out_channels),\n",
        "        )\n",
        "\n",
        "        self.emb_layer = nn.Sequential(\n",
        "            nn.SiLU(),\n",
        "            nn.Linear(\n",
        "                emb_dim,\n",
        "                out_channels\n",
        "            ),\n",
        "        )\n",
        "\n",
        "    def forward(self, x, t):\n",
        "        x = self.maxpool_conv(x)\n",
        "        emb = self.emb_layer(t)[:, :, None, None].repeat(1, 1, x.shape[-2], x.shape[-1])\n",
        "        return x + emb\n"
      ],
      "metadata": {
        "cellView": "form",
        "id": "CUghivY4Gb1E"
      },
      "execution_count": 12,
      "outputs": []
    },
    {
      "cell_type": "code",
      "source": [
        "#@title Up\n",
        "#@markdown upsample process\n",
        "class Up(nn.Module):\n",
        "    def __init__(self, in_channels, out_channels, emb_dim=256):\n",
        "        super().__init__()\n",
        "\n",
        "        self.up = nn.Upsample(scale_factor=2, mode=\"bilinear\", align_corners=True)\n",
        "        self.conv = nn.Sequential(\n",
        "            DoubleConv(in_channels, in_channels, residual=True),\n",
        "            DoubleConv(in_channels, out_channels, in_channels // 2),\n",
        "        )\n",
        "\n",
        "        self.emb_layer = nn.Sequential(\n",
        "            nn.SiLU(),\n",
        "            nn.Linear(\n",
        "                emb_dim,\n",
        "                out_channels\n",
        "            ),\n",
        "        )\n",
        "\n",
        "    def forward(self, x, skip_x, t):\n",
        "        x = self.up(x)\n",
        "        x = torch.cat([skip_x, x], dim=1)\n",
        "        x = self.conv(x)\n",
        "        emb = self.emb_layer(t)[:, :, None, None].repeat(1, 1, x.shape[-2], x.shape[-1])\n",
        "        return x + emb\n"
      ],
      "metadata": {
        "cellView": "form",
        "id": "2uH4s-bBGgbH"
      },
      "execution_count": 13,
      "outputs": []
    },
    {
      "cell_type": "code",
      "source": [
        "#@title UNet\n",
        "#@markdown UNet is $\\epsilon_{\\theta}(x_t,t)$\n",
        "class UNet(nn.Module):\n",
        "    def __init__(self, c_in=3, c_out=3, time_dim=256, device=\"cuda\"):\n",
        "        super().__init__()\n",
        "        self.device = device\n",
        "        self.time_dim = time_dim\n",
        "        self.inc = DoubleConv(c_in, 64)\n",
        "        self.down1 = Down(64, 128)\n",
        "        self.sa1 = SelfAttention(128, 32)\n",
        "        self.down2 = Down(128, 256)\n",
        "        self.sa2 = SelfAttention(256, 16)\n",
        "        self.down3 = Down(256, 256)\n",
        "        self.sa3 = SelfAttention(256, 8)\n",
        "\n",
        "        self.bot1 = DoubleConv(256, 512)\n",
        "        self.bot2 = DoubleConv(512, 512)\n",
        "        self.bot3 = DoubleConv(512, 256)\n",
        "\n",
        "        self.up1 = Up(512, 128)\n",
        "        self.sa4 = SelfAttention(128, 16)\n",
        "        self.up2 = Up(256, 64)\n",
        "        self.sa5 = SelfAttention(64, 32)\n",
        "        self.up3 = Up(128, 64)\n",
        "        self.sa6 = SelfAttention(64, 64)\n",
        "        self.outc = nn.Conv2d(64, c_out, kernel_size=1)\n",
        "\n",
        "    def pos_encoding(self, t, channels):\n",
        "        inv_freq = 1.0 / (\n",
        "            10000\n",
        "            ** (torch.arange(0, channels, 2, device=self.device).float() / channels)\n",
        "        )\n",
        "        pos_enc_a = torch.sin(t.repeat(1, channels // 2) * inv_freq)\n",
        "        pos_enc_b = torch.cos(t.repeat(1, channels // 2) * inv_freq)\n",
        "        pos_enc = torch.cat([pos_enc_a, pos_enc_b], dim=-1)\n",
        "        return pos_enc\n",
        "\n",
        "    def forward(self, x, t):\n",
        "        t = t.unsqueeze(-1).type(torch.float)\n",
        "        t = self.pos_encoding(t, self.time_dim)\n",
        "\n",
        "        x1 = self.inc(x)\n",
        "        x2 = self.down1(x1, t)\n",
        "        x2 = self.sa1(x2)\n",
        "        x3 = self.down2(x2, t)\n",
        "        x3 = self.sa2(x3)\n",
        "        x4 = self.down3(x3, t)\n",
        "        x4 = self.sa3(x4)\n",
        "\n",
        "        x4 = self.bot1(x4)\n",
        "        x4 = self.bot2(x4)\n",
        "        x4 = self.bot3(x4)\n",
        "\n",
        "        x = self.up1(x4, x3, t)\n",
        "        x = self.sa4(x)\n",
        "        x = self.up2(x, x2, t)\n",
        "        x = self.sa5(x)\n",
        "        x = self.up3(x, x1, t)\n",
        "        x = self.sa6(x)\n",
        "        output = self.outc(x)\n",
        "        return output"
      ],
      "metadata": {
        "cellView": "form",
        "id": "txX02reiGmd3"
      },
      "execution_count": 14,
      "outputs": []
    },
    {
      "cell_type": "markdown",
      "source": [
        "###utils.py"
      ],
      "metadata": {
        "id": "BAK6POjGHCxH"
      }
    },
    {
      "cell_type": "code",
      "source": [
        "#@title utils.py\n",
        "import os\n",
        "import torch\n",
        "import torchvision\n",
        "from PIL import Image\n",
        "from matplotlib import pyplot as plt\n",
        "from torch.utils.data import DataLoader\n",
        "\n",
        "#@markdown plot_images\n",
        "def plot_images(images):\n",
        "    plt.figure(figsize=(32, 32))\n",
        "    plt.imshow(torch.cat([\n",
        "        torch.cat([i for i in images.cpu()], dim=-1),\n",
        "    ], dim=-2).permute(1, 2, 0).cpu())\n",
        "    plt.show()\n",
        "\n",
        "#@markdown save_images\n",
        "def save_images(images, path, **kwargs):\n",
        "    grid = torchvision.utils.make_grid(images, **kwargs)\n",
        "    ndarr = grid.permute(1, 2, 0).to('cpu').numpy()\n",
        "    im = Image.fromarray(ndarr)\n",
        "    im.save(path)\n",
        "    display(im)\n",
        "\n",
        "#@markdown get_data\n",
        "def get_data(args):\n",
        "    transforms = torchvision.transforms.Compose([\n",
        "        torchvision.transforms.Resize(80),  # args.image_size + 1/4 *args.image_size\n",
        "        torchvision.transforms.RandomResizedCrop(args.image_size, scale=(0.8, 1.0)),\n",
        "        torchvision.transforms.ToTensor(),\n",
        "        torchvision.transforms.Normalize((0.5, 0.5, 0.5), (0.5, 0.5, 0.5))\n",
        "    ])\n",
        "    dataset = torchvision.datasets.ImageFolder(args.dataset_path, transform=transforms)\n",
        "    dataloader = DataLoader(dataset, batch_size=args.batch_size, shuffle=True)\n",
        "    return dataloader\n",
        "\n",
        "#@markdown setup_logging\n",
        "def setup_logging(run_name):\n",
        "    os.makedirs(\"models\", exist_ok=True)\n",
        "    os.makedirs(\"results\", exist_ok=True)\n",
        "    os.makedirs(os.path.join(\"models\", run_name), exist_ok=True)\n",
        "    os.makedirs(os.path.join(\"results\", run_name), exist_ok=True)"
      ],
      "metadata": {
        "id": "wueS1Kv3xI5g",
        "cellView": "form"
      },
      "execution_count": 15,
      "outputs": []
    },
    {
      "cell_type": "markdown",
      "source": [
        "###Diffusion Class"
      ],
      "metadata": {
        "id": "Fpq3wLN3I_RW"
      }
    },
    {
      "cell_type": "code",
      "execution_count": 21,
      "metadata": {
        "id": "Qj6FQJfIl8eY",
        "cellView": "form"
      },
      "outputs": [],
      "source": [
        "#@title Re-parameterization Trick\n",
        "import datetime\n",
        "import os\n",
        "import torch\n",
        "import torch.nn as nn\n",
        "from matplotlib import pyplot as plt\n",
        "from tqdm import tqdm\n",
        "from torch import optim\n",
        "#import logging\n",
        "from torch.utils.tensorboard import SummaryWriter\n",
        "\n",
        "#logging.basicConfig(format=\"%(asctime)s - %(levelname)s: %(message)s\", level=logging.INFO, datefmt=\"%I:%M:%S\")\n",
        "\n",
        "\n",
        "class Diffusion:\n",
        "    def __init__(self, noise_steps=1000, beta_start=1e-4, beta_end=0.02, img_size=256, device=\"cuda\"):\n",
        "        self.noise_steps = noise_steps\n",
        "        self.beta_start = beta_start\n",
        "        self.beta_end = beta_end\n",
        "        self.img_size = img_size\n",
        "        self.device = device\n",
        "        #@markdown Linear beta model\n",
        "        self.beta = self.prepare_noise_schedule().to(device)\n",
        "        #@markdown **Reparameterization Trick**\n",
        "        #@markdown\n",
        "        #@markdown $\\alpha_t=1-\\beta_t$\n",
        "        self.alpha = 1. - self.beta\n",
        "        #@markdown $\\bar\\alpha=\\displaystyle\\prod^{t}_{s=1}\\alpha_s$, accumulative product of $\\alpha$\n",
        "        #@markdown\n",
        "        #@markdown *Notes: In the code, $\\bar\\alpha$ is called as alpha_hat, this is not correct*\n",
        "        self.alpha_hat = torch.cumprod(self.alpha, dim=0)\n",
        "\n"
      ]
    },
    {
      "cell_type": "code",
      "source": [
        "#@title prepare_noise_schedule, noise_images, sample_timesteps\n",
        "\n",
        "\n",
        "#@markdown `prepare_noise_schedule()` Linear Schedule\n",
        "#@markdown\n",
        "#@markdown > simply using linspace from $\\beta_{start}$ to $\\beta_{end}$\n",
        "def prepare_noise_schedule(self):\n",
        "    #@markdown > If you want to change it to cosine schedule like what OpenAI does, \n",
        "    #@markdown > it should be easy to do it here\n",
        "    return torch.linspace(self.beta_start, self.beta_end, self.noise_steps)\n",
        "\n",
        "#@markdown `noise_images(x, t)`\n",
        "def noise_images(self, x, t):\n",
        "    #@markdown > a) samples $\\epsilon$ from $N(0,I)$\n",
        "    e = torch.randn_like(x)\n",
        "    #@markdown > b) forward process $q(x_t|x_{t-1})$: calculates $x_t=\\sqrt{\\bar\\alpha_t}x_0+\\sqrt{1-\\bar\\alpha_t}\\epsilon$\n",
        "    sqrt_alpha_hat = torch.sqrt(self.alpha_hat[t])[:, None, None, None]\n",
        "    sqrt_one_minus_alpha_hat = torch.sqrt(1 - self.alpha_hat[t])[:, None, None, None]\n",
        "    \n",
        "    return sqrt_alpha_hat * x + sqrt_one_minus_alpha_hat * e, e\n",
        "\n",
        "#@markdown `sample_timesteps(n)` is to $T \\sim Uniform({1,...,T})$\n",
        "def sample_timesteps(self, n):\n",
        "    return torch.randint(low=1, high=self.noise_steps, size=(n,))\n",
        "\n",
        "\n",
        "\n",
        "Diffusion.prepare_noise_schedule = prepare_noise_schedule\n",
        "Diffusion.noise_images = noise_images\n",
        "Diffusion.sample_timesteps = sample_timesteps\n"
      ],
      "metadata": {
        "cellView": "form",
        "id": "mBXT0fAiH5M1"
      },
      "execution_count": 22,
      "outputs": []
    },
    {
      "cell_type": "code",
      "source": [
        "#@title Algorithm 2 Sampling\n",
        "\n",
        "def sample(self, model, n):\n",
        "    print(datetime.datetime.now(), f\"sample {n} new images....\")\n",
        "    #@markdown **Algorithm 2 Sampling**        \n",
        "    model.eval()\n",
        "    with torch.no_grad():\n",
        "        #@markdown 1: $x_T \\sim N(0,I)$\n",
        "        #@markdown\n",
        "        #@markdown the shape is exactly the same as image\n",
        "        x = torch.randn((n, 3, self.img_size, self.img_size)).to(self.device)\n",
        "        #@markdown 2: for $t=T,...,1$ do\n",
        "        #@markdown\n",
        "        #@markdown that is to execute T times the backward process $p(x_{t-1}|x_t)$ \n",
        "        for i in tqdm(reversed(range(1, self.noise_steps)), position=0):\n",
        "            #@markdown > 3: $z \\sim N(0,I)$ if $t>1$, else $z=0$\n",
        "            t = (torch.ones(n) * i).long().to(self.device)\n",
        "            #@markdown > 4: $x_{t-1}=\\frac{1}{\\sqrt{\\alpha_t}}(x_t-\\frac{1-\\alpha_t}{\\sqrt{1-\\alpha_t}}\\epsilon_{\\theta}(x_t,t))$\n",
        "            #@markdown \n",
        "            #@markdown > `model(x, t)` or `predicted_noise` is acutally the $\\epsilon_{\\theta}(x_t,t)$\n",
        "            predicted_noise = model(x, t)\n",
        "            alpha = self.alpha[t][:, None, None, None]\n",
        "            alpha_hat = self.alpha_hat[t][:, None, None, None]\n",
        "            beta = self.beta[t][:, None, None, None]\n",
        "            if i > 1:\n",
        "                noise = torch.randn_like(x)\n",
        "            else:\n",
        "                noise = torch.zeros_like(x)\n",
        "            \n",
        "            x = 1 / torch.sqrt(alpha) * (x - ((1 - alpha) / (torch.sqrt(1 - alpha_hat))) * predicted_noise) + torch.sqrt(beta) * noise\n",
        "            #@markdown 5: end for\n",
        "    model.train()\n",
        "    #@markdown 6: return $x_0$\n",
        "    x = (x.clamp(-1, 1) + 1) / 2\n",
        "    x = (x * 255).type(torch.uint8)\n",
        "    return x\n",
        "\n",
        "Diffusion.sample = sample"
      ],
      "metadata": {
        "cellView": "form",
        "id": "Fq3a1kL3IDY-"
      },
      "execution_count": 23,
      "outputs": []
    },
    {
      "cell_type": "code",
      "source": [
        "#@title Algorithm 1 Training\n",
        "import os\n",
        "import torch\n",
        "import torch.nn as nn\n",
        "from matplotlib import pyplot as plt\n",
        "from tqdm import tqdm\n",
        "from torch import optim\n",
        "import logging\n",
        "from torch.utils.tensorboard import SummaryWriter\n",
        "import IPython\n",
        "import numpy as np\n",
        "\n",
        "def train(args):\n",
        "    setup_logging(args.run_name)\n",
        "    device = args.device\n",
        "    dataloader = get_data(args)\n",
        "    model = UNet().to(device)\n",
        "    optimizer = optim.AdamW(model.parameters(), lr=args.lr)\n",
        "    mse = nn.MSELoss()\n",
        "    diffusion = Diffusion(img_size=args.image_size, device=device)\n",
        "    logger = SummaryWriter(os.path.join(\"runs\", args.run_name))\n",
        "    l = len(dataloader)\n",
        "    #@markdown **Algorithm 1 Training**\n",
        "    #@markdown     \n",
        "    #@markdown 1: repeat\n",
        "    for epoch in range(args.epochs):\n",
        "        #IPython.display.clear_output(wait=True)\n",
        "        print(datetime.datetime.now(), f\"epoch: {epoch}:\")\n",
        "        # load data loops and augument a little bit\n",
        "        print(datetime.datetime.now(), \"train\")\n",
        "        pbar = tqdm(dataloader)\n",
        "        losses = []\n",
        "        for i, (images, _) in enumerate(pbar):\n",
        "            #@markdown > 2: $x_0 \\sim q(x_0)$\n",
        "            #@markdown forward process\n",
        "            images = images.to(device)            \n",
        "            #@markdown > 3: $T \\sim Uniform({1,...,T})$ \n",
        "            t = diffusion.sample_timesteps(images.shape[0]).to(device)\n",
        "            \n",
        "            #@markdown > 4: $\\epsilon \\sim N(0,I)$\n",
        "            #@markdown > \n",
        "            #@markdown > `noise_images(images, t)` does 2 things here:\n",
        "            #@markdown >> \n",
        "            #@markdown >> a) samples $\\epsilon$ from $N(0,I)$\n",
        "            #@markdown >> \n",
        "            #@markdown >> b) forward process $q(x_t|x_{t-1})$: calculates $x_t=\\sqrt{\\bar\\alpha_t}x_0+\\sqrt{1-\\bar\\alpha_t}\\epsilon$\n",
        "            x_t, noise = diffusion.noise_images(images, t)\n",
        "\n",
        "            #@markdown > 5: Take gradient descent step on\n",
        "            #@markdown \n",
        "            #@markdown >> `predicted_noise = `$\\epsilon_{\\theta}(\\sqrt{\\bar\\alpha_t}x_0-\\sqrt{1-\\bar\\alpha_t}\\epsilon,t)$\n",
        "            predicted_noise = model(x_t, t)\n",
        "\n",
        "            #@markdown >> $\\nabla_{\\theta}||\\epsilon - \\epsilon_{\\theta}(\\sqrt{\\bar\\alpha_t}x_0-\\sqrt{1-\\bar\\alpha_t}\\epsilon,t) ||^2 $\n",
        "            loss = mse(noise, predicted_noise)\n",
        "\n",
        "            optimizer.zero_grad()\n",
        "            loss.backward()\n",
        "            optimizer.step()\n",
        "\n",
        "            pbar.set_postfix(MSE=loss.item())\n",
        "            losses.append(loss.item())\n",
        "            logger.add_scalar(\"MSE\", loss.item(), global_step=epoch * l + i)\n",
        "        print(datetime.datetime.now(), 'loss %.8f' % np.array(losses).mean())\n",
        "        \n",
        "        # sample process is extremely time consuming, only execute once every 10 epochs\n",
        "        if not (epoch>0 and epoch%10==0): \n",
        "            continue\n",
        "        #**algorithm 2** is called when predicting\n",
        "        sampled_images = diffusion.sample(model, n=images.shape[0])\n",
        "        save_images(sampled_images, os.path.join(\"results\", args.run_name, f\"{epoch}.jpg\"))\n",
        "        torch.save(model.state_dict(), os.path.join(\"models\", args.run_name, f\"ckpt.pt\"))\n",
        "    #@markdown 6: until converged\n",
        "    #@markdown \n",
        "    #@markdown we dont have this step here\n"
      ],
      "metadata": {
        "id": "hSzWYsCAxSDt",
        "cellView": "form"
      },
      "execution_count": 24,
      "outputs": []
    },
    {
      "cell_type": "markdown",
      "source": [
        "### Train"
      ],
      "metadata": {
        "id": "FGfH36ObPGxx"
      }
    },
    {
      "cell_type": "code",
      "source": [
        "#@title execute the training process\n",
        "%cd /content/ddpm\n",
        "\n",
        "def launch_train():\n",
        "    import argparse\n",
        "    #parser = argparse.ArgumentParser()\n",
        "    #args = parser.parse_args()\n",
        "    class Args():\n",
        "      def __init__(self):\n",
        "        self.run_name = \"DDPM_Uncondtional\"\n",
        "        self.epochs = 100\n",
        "        self.batch_size = 4\n",
        "        self.image_size = 64\n",
        "        self.dataset_path = r\"/content/CIFAR-10-images/test\"\n",
        "        self.device = \"cuda\"\n",
        "        self.lr = 3e-4\n",
        "    train(Args())\n",
        "\n",
        "launch_train()\n"
      ],
      "metadata": {
        "id": "-k7wG7vVxUPG",
        "colab": {
          "base_uri": "https://localhost:8080/",
          "height": 1000
        },
        "outputId": "55d7daa2-03fd-4896-c084-b466b189ad6f"
      },
      "execution_count": null,
      "outputs": [
        {
          "output_type": "stream",
          "name": "stdout",
          "text": [
            "/content/ddpm\n",
            "2022-10-06 07:38:04.461473 epoch: 0:\n",
            "2022-10-06 07:38:04.461603 train\n"
          ]
        },
        {
          "output_type": "stream",
          "name": "stderr",
          "text": [
            "100%|██████████| 200/200 [00:35<00:00,  5.68it/s, MSE=0.0747]\n"
          ]
        },
        {
          "output_type": "stream",
          "name": "stdout",
          "text": [
            "2022-10-06 07:38:39.668905 loss 0.19626181\n",
            "2022-10-06 07:38:39.669128 epoch: 1:\n",
            "2022-10-06 07:38:39.669166 train\n"
          ]
        },
        {
          "output_type": "stream",
          "name": "stderr",
          "text": [
            "100%|██████████| 200/200 [00:33<00:00,  6.01it/s, MSE=0.0446]\n"
          ]
        },
        {
          "output_type": "stream",
          "name": "stdout",
          "text": [
            "2022-10-06 07:39:12.958104 loss 0.06084056\n",
            "2022-10-06 07:39:12.958913 epoch: 2:\n",
            "2022-10-06 07:39:12.958972 train\n"
          ]
        },
        {
          "output_type": "stream",
          "name": "stderr",
          "text": [
            "100%|██████████| 200/200 [00:33<00:00,  5.98it/s, MSE=0.0287]\n"
          ]
        },
        {
          "output_type": "stream",
          "name": "stdout",
          "text": [
            "2022-10-06 07:39:46.405996 loss 0.04395297\n",
            "2022-10-06 07:39:46.406154 epoch: 3:\n",
            "2022-10-06 07:39:46.406207 train\n"
          ]
        },
        {
          "output_type": "stream",
          "name": "stderr",
          "text": [
            "100%|██████████| 200/200 [00:33<00:00,  5.94it/s, MSE=0.0163]\n"
          ]
        },
        {
          "output_type": "stream",
          "name": "stdout",
          "text": [
            "2022-10-06 07:40:20.077543 loss 0.03679429\n",
            "2022-10-06 07:40:20.078077 epoch: 4:\n",
            "2022-10-06 07:40:20.078122 train\n"
          ]
        },
        {
          "output_type": "stream",
          "name": "stderr",
          "text": [
            "100%|██████████| 200/200 [00:33<00:00,  5.90it/s, MSE=0.0203]\n"
          ]
        },
        {
          "output_type": "stream",
          "name": "stdout",
          "text": [
            "2022-10-06 07:40:53.993574 loss 0.02845562\n",
            "2022-10-06 07:40:53.995947 epoch: 5:\n",
            "2022-10-06 07:40:53.996004 train\n"
          ]
        },
        {
          "output_type": "stream",
          "name": "stderr",
          "text": [
            "100%|██████████| 200/200 [00:34<00:00,  5.84it/s, MSE=0.0121]\n"
          ]
        },
        {
          "output_type": "stream",
          "name": "stdout",
          "text": [
            "2022-10-06 07:41:28.240373 loss 0.02897122\n",
            "2022-10-06 07:41:28.240586 epoch: 6:\n",
            "2022-10-06 07:41:28.240623 train\n"
          ]
        },
        {
          "output_type": "stream",
          "name": "stderr",
          "text": [
            "100%|██████████| 200/200 [00:34<00:00,  5.87it/s, MSE=0.0326]\n"
          ]
        },
        {
          "output_type": "stream",
          "name": "stdout",
          "text": [
            "2022-10-06 07:42:02.319517 loss 0.02340002\n",
            "2022-10-06 07:42:02.319702 epoch: 7:\n",
            "2022-10-06 07:42:02.319740 train\n"
          ]
        },
        {
          "output_type": "stream",
          "name": "stderr",
          "text": [
            "100%|██████████| 200/200 [00:34<00:00,  5.86it/s, MSE=0.0237]\n"
          ]
        },
        {
          "output_type": "stream",
          "name": "stdout",
          "text": [
            "2022-10-06 07:42:36.447761 loss 0.02328044\n",
            "2022-10-06 07:42:36.450442 epoch: 8:\n",
            "2022-10-06 07:42:36.450505 train\n"
          ]
        },
        {
          "output_type": "stream",
          "name": "stderr",
          "text": [
            "100%|██████████| 200/200 [00:34<00:00,  5.84it/s, MSE=0.0307]\n"
          ]
        },
        {
          "output_type": "stream",
          "name": "stdout",
          "text": [
            "2022-10-06 07:43:10.722552 loss 0.02211619\n",
            "2022-10-06 07:43:10.722743 epoch: 9:\n",
            "2022-10-06 07:43:10.722781 train\n"
          ]
        },
        {
          "output_type": "stream",
          "name": "stderr",
          "text": [
            "100%|██████████| 200/200 [00:34<00:00,  5.82it/s, MSE=0.0856]\n"
          ]
        },
        {
          "output_type": "stream",
          "name": "stdout",
          "text": [
            "2022-10-06 07:43:45.093306 loss 0.02410219\n",
            "2022-10-06 07:43:45.093508 epoch: 10:\n",
            "2022-10-06 07:43:45.093546 train\n"
          ]
        },
        {
          "output_type": "stream",
          "name": "stderr",
          "text": [
            "100%|██████████| 200/200 [00:34<00:00,  5.84it/s, MSE=0.0296]\n"
          ]
        },
        {
          "output_type": "stream",
          "name": "stdout",
          "text": [
            "2022-10-06 07:44:19.356535 loss 0.02036360\n",
            "2022-10-06 07:44:19.356742 sample 4 new images....\n"
          ]
        },
        {
          "output_type": "stream",
          "name": "stderr",
          "text": [
            "999it [00:55, 18.01it/s]\n"
          ]
        },
        {
          "output_type": "display_data",
          "data": {
            "text/plain": [
              "<PIL.Image.Image image mode=RGB size=266x68 at 0x7FAB3CEE1D90>"
            ],
            "image/png": "[encoded data removed]"
          },
          "metadata": {}
        },
        {
          "output_type": "stream",
          "name": "stdout",
          "text": [
            "2022-10-06 07:45:15.045708 epoch: 11:\n",
            "2022-10-06 07:45:15.047157 train\n"
          ]
        },
        {
          "output_type": "stream",
          "name": "stderr",
          "text": [
            "100%|██████████| 200/200 [00:34<00:00,  5.79it/s, MSE=0.00664]\n"
          ]
        },
        {
          "output_type": "stream",
          "name": "stdout",
          "text": [
            "2022-10-06 07:45:49.596676 loss 0.01782811\n",
            "2022-10-06 07:45:49.596858 epoch: 12:\n",
            "2022-10-06 07:45:49.596891 train\n"
          ]
        },
        {
          "output_type": "stream",
          "name": "stderr",
          "text": [
            "100%|██████████| 200/200 [00:34<00:00,  5.84it/s, MSE=0.00982]\n"
          ]
        },
        {
          "output_type": "stream",
          "name": "stdout",
          "text": [
            "2022-10-06 07:46:23.852719 loss 0.01902352\n",
            "2022-10-06 07:46:23.852898 epoch: 13:\n",
            "2022-10-06 07:46:23.852933 train\n"
          ]
        },
        {
          "output_type": "stream",
          "name": "stderr",
          "text": [
            "100%|██████████| 200/200 [00:34<00:00,  5.84it/s, MSE=0.0256]\n"
          ]
        },
        {
          "output_type": "stream",
          "name": "stdout",
          "text": [
            "2022-10-06 07:46:58.084033 loss 0.01802868\n",
            "2022-10-06 07:46:58.084237 epoch: 14:\n",
            "2022-10-06 07:46:58.084274 train\n"
          ]
        },
        {
          "output_type": "stream",
          "name": "stderr",
          "text": [
            " 87%|████████▋ | 174/200 [00:29<00:04,  5.72it/s, MSE=0.00636]"
          ]
        }
      ]
    }
  ]
}