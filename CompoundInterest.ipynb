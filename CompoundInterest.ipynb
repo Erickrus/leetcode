{
  "nbformat": 4,
  "nbformat_minor": 0,
  "metadata": {
    "colab": {
      "name": "CompoundInterest.ipynb",
      "version": "0.3.2",
      "provenance": [],
      "collapsed_sections": [],
      "include_colab_link": true
    },
    "kernelspec": {
      "name": "python3",
      "display_name": "Python 3"
    }
  },
  "cells": [
    {
      "cell_type": "markdown",
      "metadata": {
        "id": "view-in-github",
        "colab_type": "text"
      },
      "source": [
        "[View in Colaboratory](https://colab.research.google.com/github/Erickrus/leetcode/blob/master/CompoundInterest.ipynb)"
      ]
    },
    {
      "metadata": {
        "id": "QZzdjcDEw8V5",
        "colab_type": "code",
        "colab": {
          "base_uri": "https://localhost:8080/",
          "height": 35
        },
        "outputId": "0a0d6891-fc57-4444-d301-8e295b986605"
      },
      "cell_type": "code",
      "source": [
        "import math\n",
        "\n",
        "\n",
        "\"\"\"\n",
        "Compute compound interest. Create variables for principle, interest rate, compound frequency (monthly,\n",
        "quarterly, or yearly), and the time period in months. As an example, let’s say the principle is $10,000.00,\n",
        "the interest rate is 4 percent, the compound frequency is yearly, and the time period is 38 months. Use a for\n",
        "loop in computing the result as illustrated in the example below:\n",
        "\n",
        "\n",
        "After one year (12 months), you would have $10,400.00 (interest was $400 – 10000 multiplied by .04)\n",
        "\n",
        "After two years (24 months), you would have $10,816.00\n",
        "\n",
        "After three years (36 months), you would have $11,248.64\n",
        "For the final two months add in 74.99 (compute the interest for the full year which is 449.95 and\n",
        "multiply it by 2/12 since you are only getting paid for two months).\n",
        "\n",
        "Thus the final amount would be\n",
        "$11323.63.\n",
        "\"\"\"\n",
        "\n",
        "def compound_interest(principle, interestRate, compoundFrequency, timePeriod):\n",
        "  finalAmount, currPeriod, compoundCycles = principle, 0, math.ceil(float(timePeriod)/float(compoundFrequency))\n",
        "\n",
        "  for i in range(compoundCycles):\n",
        "\n",
        "    division = min(timePeriod-currPeriod, compoundFrequency)\n",
        "    finalAmount *= (1.0 + interestRate * (division/compoundFrequency)) \n",
        "    currPeriod += compoundFrequency\n",
        "  return finalAmount\n",
        "\n",
        "compound_interest(\n",
        "  principle = 10000.0, \n",
        "  interestRate = .04, \n",
        "  compoundFrequency = 12, \n",
        "  timePeriod = 38\n",
        ")"
      ],
      "execution_count": 18,
      "outputs": [
        {
          "output_type": "execute_result",
          "data": {
            "text/plain": [
              "11323.630933333334"
            ]
          },
          "metadata": {
            "tags": []
          },
          "execution_count": 18
        }
      ]
    }
  ]
}