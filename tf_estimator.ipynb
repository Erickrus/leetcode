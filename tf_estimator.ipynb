{
  "nbformat": 4,
  "nbformat_minor": 0,
  "metadata": {
    "colab": {
      "name": "tf.estimator.ipynb",
      "version": "0.3.2",
      "provenance": [],
      "collapsed_sections": [],
      "include_colab_link": true
    },
    "kernelspec": {
      "name": "python3",
      "display_name": "Python 3"
    }
  },
  "cells": [
    {
      "cell_type": "markdown",
      "metadata": {
        "id": "view-in-github",
        "colab_type": "text"
      },
      "source": [
        "<a href=\"https://colab.research.google.com/github/Erickrus/leetcode/blob/master/tf_estimator.ipynb\" target=\"_parent\"><img src=\"https://colab.research.google.com/assets/colab-badge.svg\" alt=\"Open In Colab\"/></a>"
      ]
    },
    {
      "metadata": {
        "id": "UH4XI2HST3jR",
        "colab_type": "text"
      },
      "cell_type": "markdown",
      "source": [
        "https://github.com/tensorflow/estimator/tree/master/tensorflow_estimator/python/estimator\n"
      ]
    },
    {
      "metadata": {
        "id": "izyekzZWK3_7",
        "colab_type": "code",
        "outputId": "3ca4ebfa-d9ea-4a0f-9912-013c2b562ef8",
        "colab": {
          "base_uri": "https://localhost:8080/",
          "height": 571
        }
      },
      "cell_type": "code",
      "source": [
        "# prepare customized image data\n",
        "from PIL import Image\n",
        "import os\n",
        "from urllib.request import urlretrieve\n",
        "from matplotlib.pyplot import imshow\n",
        "\n",
        "%matplotlib inline\n",
        "\n",
        "basePath = \"data\"\n",
        "def maybe_download(url, imageName):\n",
        "  try:\n",
        "    if not os.path.exists(imageName):\n",
        "      urlretrieve(url, imageName)\n",
        "      im = Image.open(imageName)\n",
        "      im = im.resize((28,28)).convert('L')\n",
        "      im.save(imageName, \"JPEG\")\n",
        "    else:\n",
        "      print(\"%s already exists\" % imageName)\n",
        "  except:\n",
        "    pass\n",
        "\n",
        "def prepare_data():\n",
        "  maybe_download(\"https://media.newyorker.com/photos/5b48dfe812d15d2c9b41dbc7/master/w_649,c_limit/Rudell-RainbowBridge.jpg\",os.path.join(basePath, \"cat\",\"1.jpg\"))\n",
        "  maybe_download(\"http://www.pawschicago.org/fileadmin/user_upload/spay-young-pets.jpg\",os.path.join(basePath, \"cat\",\"2.jpg\"))\n",
        "  maybe_download(\"https://previews.123rf.com/images/nehru/nehru1505/nehru150501675/40068586-american-staffordshire-terrier-female-dog-image.jpg\", os.path.join(basePath, \"dog\",\"1.jpg\"))\n",
        "  maybe_download(\"https://previews.123rf.com/images/nehru/nehru1505/nehru150500704/39774720-american-staffordshire-terrier-female-dog-image.jpg\",os.path.join(basePath, \"dog\",\"2.jpg\"))\n",
        "\n",
        "def display_im(imageName):\n",
        "  im = Image.open(imageName)\n",
        "  imshow(im)  \n",
        "\n",
        "\n",
        "#!rm -Rf data\n",
        "!ls -al data\n",
        "!mkdir -p data/cat\n",
        "!mkdir -p data/dog\n",
        "prepare_data()\n",
        "#!apt install -y tree\n",
        "!tree data\n",
        "\n",
        "display_im('data/cat/1.jpg')\n",
        "  \n"
      ],
      "execution_count": 0,
      "outputs": [
        {
          "output_type": "stream",
          "text": [
            "total 16\n",
            "drwxr-xr-x 4 root root 4096 Mar 27 09:23 .\n",
            "drwxr-xr-x 1 root root 4096 Mar 27 09:23 ..\n",
            "drwxr-xr-x 2 root root 4096 Mar 27 09:23 cat\n",
            "drwxr-xr-x 2 root root 4096 Mar 27 09:23 dog\n",
            "data/cat/1.jpg already exists\n",
            "data/cat/2.jpg already exists\n",
            "data/dog/1.jpg already exists\n",
            "data/dog/2.jpg already exists\n",
            "data\n",
            "├── cat\n",
            "│   ├── 1.jpg\n",
            "│   └── 2.jpg\n",
            "└── dog\n",
            "    ├── 1.jpg\n",
            "    └── 2.jpg\n",
            "\n",
            "2 directories, 4 files\n"
          ],
          "name": "stdout"
        },
        {
          "output_type": "display_data",
          "data": {
            "image/png": "[encoded data removed]",
            "text/plain": [
              "<Figure size 432x288 with 1 Axes>"
            ]
          },
          "metadata": {
            "tags": []
          }
        }
      ]
    },
    {
      "metadata": {
        "id": "LZ1wSWCXDK95",
        "colab_type": "code",
        "outputId": "70750892-4ff4-4585-c004-df56892760dc",
        "colab": {
          "base_uri": "https://localhost:8080/",
          "height": 119
        }
      },
      "cell_type": "code",
      "source": [
        "#loading the original dataset from mnist\n",
        "from tensorflow.examples.tutorials.mnist import input_data\n",
        "import tensorflow as tf\n",
        "import numpy as np\n",
        " \n",
        "mnist=input_data.read_data_sets(\n",
        "    \"/data/machine_learning/mnist/\",\n",
        "    one_hot=False\n",
        ")\n",
        "\n",
        "print(mnist.train.labels.shape)\n",
        "print(type(mnist.train.labels))"
      ],
      "execution_count": 0,
      "outputs": [
        {
          "output_type": "stream",
          "text": [
            "Extracting /data/machine_learning/mnist/train-images-idx3-ubyte.gz\n",
            "Extracting /data/machine_learning/mnist/train-labels-idx1-ubyte.gz\n",
            "Extracting /data/machine_learning/mnist/t10k-images-idx3-ubyte.gz\n",
            "Extracting /data/machine_learning/mnist/t10k-labels-idx1-ubyte.gz\n",
            "(55000,)\n",
            "<class 'numpy.ndarray'>\n"
          ],
          "name": "stdout"
        }
      ]
    },
    {
      "metadata": {
        "id": "3zEQFG0IDjTn",
        "colab_type": "code",
        "colab": {}
      },
      "cell_type": "code",
      "source": [
        "#定义网络结构\n",
        "def neural_net(x_dict, params):\n",
        "  imData = x_dict['images']\n",
        "  layer_0 = tf.reshape(imData, [-1, 28*28])\n",
        "  layer_1 = tf.layers.dense(layer_0, params['n_hidden_1']) #全连接层\n",
        "  layer_2 = tf.layers.dense(layer_1, params['n_hidden_2']) #全连接层\n",
        "  \n",
        "  return tf.layers.dense(layer_2, params['num_classes']) #全连接层，输出层"
      ],
      "execution_count": 0,
      "outputs": []
    },
    {
      "metadata": {
        "id": "ZKNoYXgDKVGd",
        "colab_type": "text"
      },
      "cell_type": "markdown",
      "source": [
        "refer to: https://www.tensorflow.org/api_docs/python/tf/estimator/EstimatorSpec\n",
        "\n",
        "Depending on the value of mode, different arguments are required for EstimatorSpec\n",
        "\n",
        "    ModeKeys.TRAIN:   EstimatorSpec(mode, loss, train_op)\n",
        "    ModeKeys.EVAL:    EstimatorSpec(mode, loss)\n",
        "    ModeKeys.PREDICT: EstimatorSpec(mode, predictions)\n",
        "    "
      ]
    },
    {
      "metadata": {
        "id": "0ErC4xAZDokg",
        "colab_type": "code",
        "colab": {}
      },
      "cell_type": "code",
      "source": [
        "def model_fn(features, labels, mode, params):\n",
        "    logits = neural_net(features, params) #输出\n",
        "    print(logits.shape)\n",
        "    \n",
        "    # EstimatorSpec.predictions\n",
        "    pred_classes = tf.argmax(logits, axis=1) #预测\n",
        "    \n",
        "    # 区分预测模式\n",
        "    if mode == tf.estimator.ModeKeys.PREDICT:\n",
        "        return tf.estimator.EstimatorSpec(\n",
        "            mode,\n",
        "            predictions=pred_classes\n",
        "        )\n",
        "   \n",
        "    # EstimatorSpec.loss 定义损失和优化函数\n",
        "    loss_op=tf.reduce_mean(\n",
        "        tf.nn.sparse_softmax_cross_entropy_with_logits(\n",
        "            logits=logits,\n",
        "            labels=tf.cast(labels, dtype=tf.int32)\n",
        "        )\n",
        "    )\n",
        "    # EstimatorSpec.train_op\n",
        "    train_op = tf.train.GradientDescentOptimizer(learning_rate=params['learning_rate']).minimize(\n",
        "        loss_op,\n",
        "        global_step=tf.train.get_global_step()\n",
        "    ) \n",
        "    # EstimatorSpec.eval_metric_ops 精度\n",
        "    acc_op = tf.metrics.accuracy(\n",
        "        labels=labels,\n",
        "        predictions=pred_classes\n",
        "    )\n",
        "\n",
        "    return tf.estimator.EstimatorSpec(\n",
        "        mode=mode,\n",
        "        predictions=pred_classes,\n",
        "        loss=loss_op,\n",
        "        train_op=train_op,\n",
        "        eval_metric_ops={'accuracy': acc_op}\n",
        "    )"
      ],
      "execution_count": 0,
      "outputs": []
    },
    {
      "metadata": {
        "id": "F_ARcmguOYBr",
        "colab_type": "text"
      },
      "cell_type": "markdown",
      "source": [
        "Based on https://github.com/tensorflow/models/blob/master/samples/core/get_started/custom_estimator.py\n",
        "\n",
        "params could be passed as a dict to the model_fn\n",
        "\n",
        "\n",
        "numpy_input_fn is defined: https://github.com/tensorflow/estimator/blob/master/tensorflow_estimator/python/estimator/inputs/numpy_io.py\n",
        "\n",
        "also: tf.data Dataset based input_fn: https://medium.com/tensorflow/multi-gpu-training-with-estimators-tf-keras-and-tf-data-ba584c3134db"
      ]
    },
    {
      "metadata": {
        "id": "GnRgx7fS6tbb",
        "colab_type": "code",
        "colab": {
          "base_uri": "https://localhost:8080/",
          "height": 51
        },
        "outputId": "3df920c1-f6bf-48f8-e92e-c9fa62585ca5"
      },
      "cell_type": "code",
      "source": [
        "import tensorflow as tf\n",
        "\n",
        "(train_images, train_labels), (test_images, test_labels) = tf.keras.datasets.fashion_mnist.load_data()\n",
        "print(type(train_images))\n",
        "print(train_images.shape)"
      ],
      "execution_count": 91,
      "outputs": [
        {
          "output_type": "stream",
          "text": [
            "<class 'numpy.ndarray'>\n",
            "(60000, 28, 28)\n"
          ],
          "name": "stdout"
        }
      ]
    },
    {
      "metadata": {
        "id": "fq6vacyoX2O9",
        "colab_type": "code",
        "colab": {}
      },
      "cell_type": "code",
      "source": [
        "#自定义 input_fn\n",
        "# based on https://github.com/tensorflow/estimator/blob/master/tensorflow_estimator/python/estimator/inputs/numpy_io.py\n",
        "def udf_input_fn(\n",
        "    x, y=None, \n",
        "    batch_size=1, \n",
        "    num_epochs=1, \n",
        "    shuffle=None, \n",
        "    queue_capacity=4, \n",
        "    num_threads=1):\n",
        "  \n",
        "  def input_fn():\n",
        "    \n",
        "    features, target = [], np.zeros(len(x[\"images\"]),dtype=np.int32)\n",
        "    for i in range(x[\"images\"].shape[0]):\n",
        "    #for i in range(1):\n",
        "      im = Image.open(x[\"images\"][i])\n",
        "      # originally it should be divided by 255.0 only\n",
        "      # due to some network issues, it is further divided\n",
        "      im = np.asarray(im, dtype = np.float32) / 255.0 / 4.0\n",
        "      features.append(im)\n",
        "      if x[\"images\"][i].find('cat') >=0:\n",
        "        target[i] = 0\n",
        "      else:\n",
        "        target[i] = 1\n",
        "    \n",
        "    features = np.array(features)\n",
        "    target = np.array(target) \n",
        "    \n",
        "    features = {\"images\":tf.convert_to_tensor(features, dtype=tf.float32)}\n",
        "    # no need to convert it to one hot for sparse_softmax_cross_entropy_with_logits\n",
        "    target = tf.convert_to_tensor(target, dtype=tf.int32)\n",
        "    \n",
        "    return features, target\n",
        "      \n",
        "  return input_fn"
      ],
      "execution_count": 0,
      "outputs": []
    },
    {
      "metadata": {
        "id": "h6TJF3SND5C7",
        "colab_type": "code",
        "outputId": "73335185-966f-4b48-91e7-7c6b8b512e92",
        "colab": {
          "base_uri": "https://localhost:8080/",
          "height": 887
        }
      },
      "cell_type": "code",
      "source": [
        "#参数设置\n",
        "num_steps=1000 #迭代次数\n",
        "batch_size=128 #批处理大小\n",
        "display_step=100 #输出间隔\n",
        "\n",
        "model = tf.estimator.Estimator(\n",
        "    model_fn,\n",
        "    params ={\n",
        "      'n_hidden_1': 256,    #第一个隐藏层神经元\n",
        "      'n_hidden_2': 256,    #第二个隐藏层神经元\n",
        "      'num_classes': 10,    #标签类别\n",
        "      'learning_rate': 0.1, #学习率\n",
        "    }\n",
        ")\n",
        "\n",
        "# suppose to change the control here\n",
        "usingMnistData = False\n",
        "if usingMnistData:\n",
        "  train_input_fn = tf.estimator.inputs.numpy_input_fn(\n",
        "      x={'images':mnist.train.images}, # numpy.ndarray\n",
        "      y=mnist.train.labels,            # numpy.ndarray\n",
        "      batch_size=batch_size,\n",
        "      num_epochs=None,\n",
        "      shuffle=True\n",
        "  )\n",
        "else:\n",
        "  # plugin the udf input fn\n",
        "  train_input_fn = udf_input_fn(\n",
        "    x={\n",
        "      \"images\":np.array([\n",
        "        'data/cat/1.jpg',\n",
        "        'data/cat/2.jpg',\n",
        "        'data/dog/1.jpg',\n",
        "        'data/dog/2.jpg'\n",
        "      ])\n",
        "    }, # numpy.ndarray\n",
        "    #y=xx,            # ignoring y, since y is generated from x\n",
        "    batch_size=batch_size,\n",
        "    num_epochs=None,\n",
        "    shuffle=True\n",
        "  )\n",
        "\n",
        "\n",
        "model.train(\n",
        "    train_input_fn,\n",
        "    steps=num_steps\n",
        ")\n",
        "\n",
        "eval_input_fn = tf.estimator.inputs.numpy_input_fn(\n",
        "    x={'images':mnist.test.images},\n",
        "    y=mnist.test.labels,\n",
        "    batch_size=batch_size,\n",
        "    shuffle=False\n",
        ")\n",
        "\n",
        "e = model.evaluate(eval_input_fn)\n",
        "print(\"测试精度：\",e['accuracy'])"
      ],
      "execution_count": 0,
      "outputs": [
        {
          "output_type": "stream",
          "text": [
            "INFO:tensorflow:Using default config.\n",
            "WARNING:tensorflow:Using temporary folder as model directory: /tmp/tmpax6_yeog\n",
            "INFO:tensorflow:Using config: {'_model_dir': '/tmp/tmpax6_yeog', '_tf_random_seed': None, '_save_summary_steps': 100, '_save_checkpoints_steps': None, '_save_checkpoints_secs': 600, '_session_config': allow_soft_placement: true\n",
            "graph_options {\n",
            "  rewrite_options {\n",
            "    meta_optimizer_iterations: ONE\n",
            "  }\n",
            "}\n",
            ", '_keep_checkpoint_max': 5, '_keep_checkpoint_every_n_hours': 10000, '_log_step_count_steps': 100, '_train_distribute': None, '_device_fn': None, '_protocol': None, '_eval_distribute': None, '_experimental_distribute': None, '_service': None, '_cluster_spec': <tensorflow.python.training.server_lib.ClusterSpec object at 0x7f00e24394a8>, '_task_type': 'worker', '_task_id': 0, '_global_id_in_cluster': 0, '_master': '', '_evaluation_master': '', '_is_chief': True, '_num_ps_replicas': 0, '_num_worker_replicas': 1}\n",
            "INFO:tensorflow:Calling model_fn.\n",
            "(4, 10)\n",
            "INFO:tensorflow:Done calling model_fn.\n",
            "INFO:tensorflow:Create CheckpointSaverHook.\n",
            "INFO:tensorflow:Graph was finalized.\n",
            "INFO:tensorflow:Running local_init_op.\n",
            "INFO:tensorflow:Done running local_init_op.\n",
            "INFO:tensorflow:Saving checkpoints for 0 into /tmp/tmpax6_yeog/model.ckpt.\n",
            "INFO:tensorflow:loss = 2.5165641, step = 1\n",
            "INFO:tensorflow:global_step/sec: 452.962\n",
            "INFO:tensorflow:loss = 0.003874624, step = 101 (0.224 sec)\n",
            "INFO:tensorflow:global_step/sec: 504.992\n",
            "INFO:tensorflow:loss = 0.0015114056, step = 201 (0.201 sec)\n",
            "INFO:tensorflow:global_step/sec: 564.807\n",
            "INFO:tensorflow:loss = 0.00089304184, step = 301 (0.173 sec)\n",
            "INFO:tensorflow:global_step/sec: 543.928\n",
            "INFO:tensorflow:loss = 0.0006199628, step = 401 (0.184 sec)\n",
            "INFO:tensorflow:global_step/sec: 547.8\n",
            "INFO:tensorflow:loss = 0.00046912668, step = 501 (0.182 sec)\n",
            "INFO:tensorflow:global_step/sec: 548.412\n",
            "INFO:tensorflow:loss = 0.0003744849, step = 601 (0.183 sec)\n",
            "INFO:tensorflow:global_step/sec: 540.011\n",
            "INFO:tensorflow:loss = 0.00030992556, step = 701 (0.184 sec)\n",
            "INFO:tensorflow:global_step/sec: 539.669\n",
            "INFO:tensorflow:loss = 0.00026341755, step = 801 (0.185 sec)\n",
            "INFO:tensorflow:global_step/sec: 503.219\n",
            "INFO:tensorflow:loss = 0.00022831913, step = 901 (0.200 sec)\n",
            "INFO:tensorflow:Saving checkpoints for 1000 into /tmp/tmpax6_yeog/model.ckpt.\n",
            "INFO:tensorflow:Loss for final step: 0.00020132406.\n",
            "INFO:tensorflow:Calling model_fn.\n",
            "(?, 10)\n",
            "INFO:tensorflow:Done calling model_fn.\n",
            "INFO:tensorflow:Starting evaluation at 2019-03-27T10:45:53Z\n",
            "INFO:tensorflow:Graph was finalized.\n",
            "INFO:tensorflow:Restoring parameters from /tmp/tmpax6_yeog/model.ckpt-1000\n",
            "INFO:tensorflow:Running local_init_op.\n",
            "INFO:tensorflow:Done running local_init_op.\n",
            "INFO:tensorflow:Finished evaluation at 2019-03-27-10:45:53\n",
            "INFO:tensorflow:Saving dict for global step 1000: accuracy = 0.1138, global_step = 1000, loss = 15.103227\n",
            "INFO:tensorflow:Saving 'checkpoint_path' summary for global step 1000: /tmp/tmpax6_yeog/model.ckpt-1000\n",
            "测试精度： 0.1138\n"
          ],
          "name": "stdout"
        }
      ]
    }
  ]
}