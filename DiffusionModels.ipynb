{
  "cells": [
    {
      "cell_type": "markdown",
      "metadata": {
        "id": "view-in-github",
        "colab_type": "text"
      },
      "source": [
        "<a href=\"https://colab.research.google.com/github/Erickrus/leetcode/blob/master/DiffusionModels.ipynb\" target=\"_parent\"><img src=\"https://colab.research.google.com/assets/colab-badge.svg\" alt=\"Open In Colab\"/></a>"
      ]
    },
    {
      "cell_type": "markdown",
      "metadata": {
        "id": "N04LD306wMEg"
      },
      "source": [
        "# Diffusion Models\n",
        "This is an easy-to-understand implementation of diffusion models within 100 lines of code. Different from other implementations, this code doesn't use the lower-bound formulation for sampling and strictly follows Algorithm 1 from the [DDPM](https://arxiv.org/pdf/2006.11239.pdf) paper, which makes it extremely short and easy to follow. There is only one implementation: `unconditional` in this notebook. Below you can find two explanation videos for the theory behind diffusion models and the implementation.\n",
        "\n",
        "<a href=\"https://www.youtube.com/watch?v=HoKDTa5jHvg\">\n",
        "   <img alt=\"Qries\" src=\"https://user-images.githubusercontent.com/61938694/191407922-f613759e-4bea-4ac9-9135-d053a6312421.jpg\"\n",
        "   width=\"300\">\n",
        "</a>\n",
        "\n",
        "<a href=\"https://www.youtube.com/watch?v=TBCRlnwJtZU\">\n",
        "   <img alt=\"Qries\" src=\"https://user-images.githubusercontent.com/61938694/191407849-6d0376c7-05b2-43cd-a75c-1280b0e33af1.png\"\n",
        "   width=\"300\">\n",
        "</a>\n",
        "\n",
        "<hr>\n"
      ]
    },
    {
      "cell_type": "markdown",
      "metadata": {
        "id": "XC6PidnDHP3M"
      },
      "source": [
        "### prepare CIFAR-10 dataset"
      ]
    },
    {
      "cell_type": "code",
      "execution_count": 6,
      "metadata": {
        "colab": {
          "base_uri": "https://localhost:8080/"
        },
        "id": "N3VenSfKqL1D",
        "outputId": "8c28150c-50ce-4c45-d4c4-478b180c2555",
        "cellView": "form"
      },
      "outputs": [
        {
          "output_type": "stream",
          "name": "stdout",
          "text": [
            "/content\n",
            "Cloning into 'CIFAR-10-images'...\n",
            "remote: Enumerating objects: 60027, done.\u001b[K\n",
            "remote: Total 60027 (delta 0), reused 0 (delta 0), pack-reused 60027\u001b[K\n",
            "Receiving objects: 100% (60027/60027), 19.94 MiB | 2.54 MiB/s, done.\n",
            "Resolving deltas: 100% (59990/59990), done.\n",
            "Checking out files: 100% (60001/60001), done.\n"
          ]
        }
      ],
      "source": [
        "#@title download CIFAR-10 dataset\n",
        "%cd /content\n",
        "!rm -Rf /content/ddpm\n",
        "!rm -Rf /content/CIFAR-10-images\n",
        "!git clone https://github.com/YoongiKim/CIFAR-10-images\n",
        "!mkdir -p /content/ddpm/dataset\n"
      ]
    },
    {
      "cell_type": "code",
      "execution_count": 38,
      "metadata": {
        "colab": {
          "base_uri": "https://localhost:8080/"
        },
        "id": "cf_puzcw06ci",
        "outputId": "46f22058-90ed-4949-cf49-79ae661b779a",
        "cellView": "form"
      },
      "outputs": [
        {
          "output_type": "stream",
          "name": "stdout",
          "text": [
            "shrink CIFAR-10 dataset to 9999 per category /content/ddpm/dataset/\n"
          ]
        },
        {
          "output_type": "stream",
          "name": "stderr",
          "text": [
            "100%|██████████| 10000/10000 [14:13<00:00, 11.72it/s]\n"
          ]
        },
        {
          "output_type": "stream",
          "name": "stdout",
          "text": [
            "\n",
            " 10000 images left\n"
          ]
        }
      ],
      "source": [
        "#@title shrink dataset size\n",
        "#@markdown Image to keep per category\n",
        "\n",
        "import glob, os\n",
        "from tqdm import tqdm\n",
        "\n",
        "nImageToKeep = 9999 #@param {\"type\":\"integer\"}\n",
        "\n",
        "srcDir = '/content/CIFAR-10-images/test/'\n",
        "tgtDir = '/content/ddpm/dataset/'\n",
        "categoryNames = [os.path.basename(x[0]) for x in os.walk(srcDir)]\n",
        "os.system(\"rm -Rf %s\" % tgtDir)\n",
        "os.system(\"mkdir -p %s\" % tgtDir)\n",
        "for categoryName in categoryNames:\n",
        "  os.system(\"mkdir -p %s\" % os.path.join(tgtDir, categoryName))\n",
        "\n",
        "print(\"shrink CIFAR-10 dataset to %d per category %s\" %(nImageToKeep, tgtDir))\n",
        "\n",
        "for filename in tqdm(glob.glob(os.path.join(srcDir, \"**\", \"*.jpg\"))):\n",
        "  shortFilename = os.path.basename(filename).replace(\".jpg\",\"\")\n",
        "  categoryName = filename.split(\"/\")[-2]\n",
        "  fileId = int(shortFilename)\n",
        "  if fileId < nImageToKeep:\n",
        "    os.system(\"cp -f %s %s\" % (filename, os.path.join(tgtDir, categoryName)))\n",
        "print(\"\\n\",len(glob.glob(os.path.join(tgtDir, \"**\", \"*.jpg\"))), \"images left\")\n"
      ]
    },
    {
      "cell_type": "markdown",
      "metadata": {
        "id": "UmFHvvM1GDUu"
      },
      "source": [
        "### modules.py"
      ]
    },
    {
      "cell_type": "code",
      "execution_count": 39,
      "metadata": {
        "cellView": "form",
        "id": "sFJsW_EVw2hR"
      },
      "outputs": [],
      "source": [
        "#@title SelfAttention\n",
        "#@markdown self attention\n",
        "import torch\n",
        "import torch.nn as nn\n",
        "import torch.nn.functional as F\n",
        "\n",
        "class SelfAttention(nn.Module):\n",
        "    def __init__(self, channels, size):\n",
        "        super(SelfAttention, self).__init__()\n",
        "        self.channels = channels\n",
        "        self.size = size\n",
        "        self.mha = nn.MultiheadAttention(channels, 4, batch_first=True)\n",
        "        self.ln = nn.LayerNorm([channels])\n",
        "        self.ff_self = nn.Sequential(\n",
        "            nn.LayerNorm([channels]),\n",
        "            nn.Linear(channels, channels),\n",
        "            nn.GELU(),\n",
        "            nn.Linear(channels, channels),\n",
        "        )\n",
        "\n",
        "    def forward(self, x):\n",
        "        x = x.view(-1, self.channels, self.size * self.size).swapaxes(1, 2)\n",
        "        x_ln = self.ln(x)\n",
        "        attention_value, _ = self.mha(x_ln, x_ln, x_ln)\n",
        "        attention_value = attention_value + x\n",
        "        attention_value = self.ff_self(attention_value) + attention_value\n",
        "        return attention_value.swapaxes(2, 1).view(-1, self.channels, self.size, self.size)\n"
      ]
    },
    {
      "cell_type": "code",
      "execution_count": 40,
      "metadata": {
        "cellView": "form",
        "id": "13urmSLyGR7G"
      },
      "outputs": [],
      "source": [
        "#@title DoubleConv\n",
        "#@markdown double convolution\n",
        "class DoubleConv(nn.Module):\n",
        "    def __init__(self, in_channels, out_channels, mid_channels=None, residual=False):\n",
        "        super().__init__()\n",
        "        self.residual = residual\n",
        "        if not mid_channels:\n",
        "            mid_channels = out_channels\n",
        "        self.double_conv = nn.Sequential(\n",
        "            nn.Conv2d(in_channels, mid_channels, kernel_size=3, padding=1, bias=False),\n",
        "            nn.GroupNorm(1, mid_channels),\n",
        "            nn.GELU(),\n",
        "            nn.Conv2d(mid_channels, out_channels, kernel_size=3, padding=1, bias=False),\n",
        "            nn.GroupNorm(1, out_channels),\n",
        "        )\n",
        "\n",
        "    def forward(self, x):\n",
        "        if self.residual:\n",
        "            return F.gelu(x + self.double_conv(x))\n",
        "        else:\n",
        "            return self.double_conv(x)\n",
        "\n"
      ]
    },
    {
      "cell_type": "code",
      "execution_count": 41,
      "metadata": {
        "cellView": "form",
        "id": "CUghivY4Gb1E"
      },
      "outputs": [],
      "source": [
        "#@title Down\n",
        "#@markdown downsample process\n",
        "class Down(nn.Module):\n",
        "    def __init__(self, in_channels, out_channels, emb_dim=256):\n",
        "        super().__init__()\n",
        "        self.maxpool_conv = nn.Sequential(\n",
        "            nn.MaxPool2d(2),\n",
        "            DoubleConv(in_channels, in_channels, residual=True),\n",
        "            DoubleConv(in_channels, out_channels),\n",
        "        )\n",
        "\n",
        "        self.emb_layer = nn.Sequential(\n",
        "            nn.SiLU(),\n",
        "            nn.Linear(\n",
        "                emb_dim,\n",
        "                out_channels\n",
        "            ),\n",
        "        )\n",
        "\n",
        "    def forward(self, x, t):\n",
        "        x = self.maxpool_conv(x)\n",
        "        emb = self.emb_layer(t)[:, :, None, None].repeat(1, 1, x.shape[-2], x.shape[-1])\n",
        "        return x + emb\n"
      ]
    },
    {
      "cell_type": "code",
      "execution_count": 42,
      "metadata": {
        "cellView": "form",
        "id": "2uH4s-bBGgbH"
      },
      "outputs": [],
      "source": [
        "#@title Up\n",
        "#@markdown upsample process\n",
        "class Up(nn.Module):\n",
        "    def __init__(self, in_channels, out_channels, emb_dim=256):\n",
        "        super().__init__()\n",
        "\n",
        "        self.up = nn.Upsample(scale_factor=2, mode=\"bilinear\", align_corners=True)\n",
        "        self.conv = nn.Sequential(\n",
        "            DoubleConv(in_channels, in_channels, residual=True),\n",
        "            DoubleConv(in_channels, out_channels, in_channels // 2),\n",
        "        )\n",
        "\n",
        "        self.emb_layer = nn.Sequential(\n",
        "            nn.SiLU(),\n",
        "            nn.Linear(\n",
        "                emb_dim,\n",
        "                out_channels\n",
        "            ),\n",
        "        )\n",
        "\n",
        "    def forward(self, x, skip_x, t):\n",
        "        x = self.up(x)\n",
        "        x = torch.cat([skip_x, x], dim=1)\n",
        "        x = self.conv(x)\n",
        "        emb = self.emb_layer(t)[:, :, None, None].repeat(1, 1, x.shape[-2], x.shape[-1])\n",
        "        return x + emb\n"
      ]
    },
    {
      "cell_type": "code",
      "execution_count": 43,
      "metadata": {
        "cellView": "form",
        "id": "txX02reiGmd3"
      },
      "outputs": [],
      "source": [
        "#@title UNet\n",
        "#@markdown UNet is $\\epsilon_{\\theta}(x_t,t)$\n",
        "#@markdown\n",
        "#@markdown <img src=\"https://huggingface.co/blog/assets/78_annotated-diffusion/unet_architecture.jpg\" width=\"600px\">\n",
        "#@markdown \n",
        "#@markdown The author went for a U-Net, introduced by (Ronneberger et al., 2015) (which, at the time, achieved state-of-the-art results for medical image segmentation). This network, like any autoencoder, consists of a bottleneck in the middle that makes sure the network learns only the most important information. Importantly, it introduced residual connections between the encoder and decoder, greatly improving gradient flow (inspired by ResNet in He et al., 2015).\n",
        "class UNet(nn.Module):\n",
        "    def __init__(self, c_in=3, c_out=3, time_dim=256, device=\"cuda\"):\n",
        "        super().__init__()\n",
        "        self.device = device\n",
        "        self.time_dim = time_dim\n",
        "        self.inc = DoubleConv(c_in, 64)\n",
        "        self.down1 = Down(64, 128)\n",
        "        self.sa1 = SelfAttention(128, 32)\n",
        "        self.down2 = Down(128, 256)\n",
        "        self.sa2 = SelfAttention(256, 16)\n",
        "        self.down3 = Down(256, 256)\n",
        "        self.sa3 = SelfAttention(256, 8)\n",
        "\n",
        "        self.bot1 = DoubleConv(256, 512)\n",
        "        self.bot2 = DoubleConv(512, 512)\n",
        "        self.bot3 = DoubleConv(512, 256)\n",
        "\n",
        "        self.up1 = Up(512, 128)\n",
        "        self.sa4 = SelfAttention(128, 16)\n",
        "        self.up2 = Up(256, 64)\n",
        "        self.sa5 = SelfAttention(64, 32)\n",
        "        self.up3 = Up(128, 64)\n",
        "        self.sa6 = SelfAttention(64, 64)\n",
        "        self.outc = nn.Conv2d(64, c_out, kernel_size=1)\n",
        "\n",
        "    def pos_encoding(self, t, channels):\n",
        "        inv_freq = 1.0 / (\n",
        "            10000\n",
        "            ** (torch.arange(0, channels, 2, device=self.device).float() / channels)\n",
        "        )\n",
        "        pos_enc_a = torch.sin(t.repeat(1, channels // 2) * inv_freq)\n",
        "        pos_enc_b = torch.cos(t.repeat(1, channels // 2) * inv_freq)\n",
        "        pos_enc = torch.cat([pos_enc_a, pos_enc_b], dim=-1)\n",
        "        return pos_enc\n",
        "\n",
        "    def forward(self, x, t):\n",
        "        t = t.unsqueeze(-1).type(torch.float)\n",
        "        t = self.pos_encoding(t, self.time_dim)\n",
        "\n",
        "        x1 = self.inc(x)\n",
        "        x2 = self.down1(x1, t)\n",
        "        x2 = self.sa1(x2)\n",
        "        x3 = self.down2(x2, t)\n",
        "        x3 = self.sa2(x3)\n",
        "        x4 = self.down3(x3, t)\n",
        "        x4 = self.sa3(x4)\n",
        "\n",
        "        x4 = self.bot1(x4)\n",
        "        x4 = self.bot2(x4)\n",
        "        x4 = self.bot3(x4)\n",
        "\n",
        "        x = self.up1(x4, x3, t)\n",
        "        x = self.sa4(x)\n",
        "        x = self.up2(x, x2, t)\n",
        "        x = self.sa5(x)\n",
        "        x = self.up3(x, x1, t)\n",
        "        x = self.sa6(x)\n",
        "        output = self.outc(x)\n",
        "        return output"
      ]
    },
    {
      "cell_type": "markdown",
      "metadata": {
        "id": "BAK6POjGHCxH"
      },
      "source": [
        "###utils.py"
      ]
    },
    {
      "cell_type": "code",
      "execution_count": 44,
      "metadata": {
        "cellView": "form",
        "id": "wueS1Kv3xI5g"
      },
      "outputs": [],
      "source": [
        "#@title utils.py\n",
        "import os\n",
        "import torch\n",
        "import torchvision\n",
        "from PIL import Image\n",
        "from matplotlib import pyplot as plt\n",
        "from torch.utils.data import DataLoader\n",
        "\n",
        "#@markdown plot_images\n",
        "def plot_images(images):\n",
        "    plt.figure(figsize=(32, 32))\n",
        "    plt.imshow(torch.cat([\n",
        "        torch.cat([i for i in images.cpu()], dim=-1),\n",
        "    ], dim=-2).permute(1, 2, 0).cpu())\n",
        "    plt.show()\n",
        "\n",
        "#@markdown save_images\n",
        "def save_images(images, path, **kwargs):\n",
        "    grid = torchvision.utils.make_grid(images, **kwargs)\n",
        "    ndarr = grid.permute(1, 2, 0).to('cpu').numpy()\n",
        "    im = Image.fromarray(ndarr)\n",
        "    im.save(path)\n",
        "    display(im)\n",
        "\n",
        "#@markdown get_data\n",
        "def get_data(args):\n",
        "    transforms = torchvision.transforms.Compose([\n",
        "        torchvision.transforms.Resize(80),  # args.image_size + 1/4 *args.image_size\n",
        "        torchvision.transforms.RandomResizedCrop(args.image_size, scale=(0.8, 1.0)),\n",
        "        torchvision.transforms.ToTensor(),\n",
        "        torchvision.transforms.Normalize((0.5, 0.5, 0.5), (0.5, 0.5, 0.5))\n",
        "    ])\n",
        "    dataset = torchvision.datasets.ImageFolder(args.dataset_path, transform=transforms)\n",
        "    dataloader = DataLoader(dataset, batch_size=args.batch_size, shuffle=True)\n",
        "    return dataloader\n",
        "\n",
        "#@markdown setup_logging\n",
        "def setup_logging(run_name):\n",
        "    os.makedirs(\"models\", exist_ok=True)\n",
        "    os.makedirs(\"results\", exist_ok=True)\n",
        "    os.makedirs(os.path.join(\"models\", run_name), exist_ok=True)\n",
        "    os.makedirs(os.path.join(\"results\", run_name), exist_ok=True)"
      ]
    },
    {
      "cell_type": "markdown",
      "metadata": {
        "id": "Fpq3wLN3I_RW"
      },
      "source": [
        "###Diffusion Class"
      ]
    },
    {
      "cell_type": "code",
      "execution_count": 32,
      "metadata": {
        "cellView": "form",
        "id": "Qj6FQJfIl8eY"
      },
      "outputs": [],
      "source": [
        "#@title Reparameterization Trick\n",
        "import datetime\n",
        "import os\n",
        "import torch\n",
        "import torch.nn as nn\n",
        "from matplotlib import pyplot as plt\n",
        "from tqdm import tqdm\n",
        "from torch import optim\n",
        "#import logging\n",
        "from torch.utils.tensorboard import SummaryWriter\n",
        "\n",
        "#logging.basicConfig(format=\"%(asctime)s - %(levelname)s: %(message)s\", level=logging.INFO, datefmt=\"%I:%M:%S\")\n",
        "\n",
        "\n",
        "class Diffusion:\n",
        "    #@markdown `Diffusion.__init__(self, noise_steps=1000, beta_start=1e-4, beta_end=0.02, img_size=256, device=\"cuda\")`\n",
        "    def __init__(self, noise_steps=1000, beta_start=1e-4, beta_end=0.02, img_size=256, device=\"cuda\"):\n",
        "        self.noise_steps = noise_steps\n",
        "        self.beta_start = beta_start\n",
        "        self.beta_end = beta_end\n",
        "        self.img_size = img_size\n",
        "        self.device = device\n",
        "\n",
        "        #@markdown define linear beta model\n",
        "        #@markdown > use `Diffusion.prepare_noise_schedule()`\n",
        "        #@markdown > and $\\beta_{1:T}$ basically just linspace($\\beta_{start}$, $\\beta_{end}$, $T$)\n",
        "        #@markdown > <img src='https://lilianweng.github.io/posts/2021-07-11-diffusion-models/diffusion-beta.png' width=350px>\n",
        "        self.beta = self.prepare_noise_schedule().to(device)\n",
        "        #@markdown \n",
        "        #@markdown DDPM Section 2: **Background**\n",
        "\n",
        "        #@markdown > formula (2): $q(x_{1:T}|x_0) := \\displaystyle\\prod_{t=1}^{T}q(x_t|x_{t−1})$\n",
        "        #@markdown > $q(x_{t}|x_{t-1}) := N (x_t;\\sqrt{1 − \\beta_t}x_{t−1}, \\beta_tI)$ \n",
        "\n",
        "\n",
        "        #@markdown \n",
        "        #@markdown > formula (4): $q(x_t|x_0)=N(x_t;\\sqrt{\\bar\\alpha_t}x_0,(1-\\bar\\alpha_t)I)$  \n",
        "        #@markdown \n",
        "\n",
        "        #@markdown >> **reparameterization trick**\n",
        "        #@markdown\n",
        "        #@markdown >> Let $\\alpha_t=1-\\beta_t$\n",
        "        self.alpha = 1. - self.beta\n",
        "        #@markdown >> Let $\\bar\\alpha=\\displaystyle\\prod^{t}_{s=1}\\alpha_s$, accumulative product of $\\alpha$\n",
        "        #@markdown\n",
        "        #@markdown >> *Notes: In the code, $\\bar\\alpha$ is called as alpha_hat, which is not proper*\n",
        "        self.alpha_hat = torch.cumprod(self.alpha, dim=0)\n",
        "\n",
        "        #@markdown >> **derivations**\n",
        "        #@markdown\n",
        "        #@markdown >> $x_t=\\sqrt{\\alpha_t}x_{t-1} + \\sqrt{1-\\alpha_t}\\epsilon_{t-1}$\n",
        "        #@markdown >> ; where $\\epsilon_{t-1}, \\epsilon_{t-2}, ... \\sim N(0,I)$\n",
        "\n",
        "        #@markdown >> $=\\sqrt{\\alpha_t\\alpha_{t-1}}x_{t-2} + \\sqrt{1-\\alpha_t\\alpha_{t-1}}\\bar\\epsilon_{t-2}$\n",
        "        #@markdown >> ; where $\\bar\\epsilon_{t-2}$ merges 2 Gaussians $(*)$.\n",
        "\n",
        "        #@markdown\n",
        "        #@markdown >> $=\\ ...$\n",
        "        #@markdown\n",
        "        #@markdown >> $=\\sqrt{\\alpha_t\\alpha_{t-1}...\\alpha_{0}}x_0 + \\sqrt{1-\\alpha_t\\alpha_{t-1}...\\alpha_0}\\epsilon$\n",
        "        #@markdown\n",
        "        #@markdown >> $=\\sqrt{\\bar\\alpha_t}x_0 + \\sqrt{1-\\bar\\alpha_t}\\epsilon$\n",
        "\n",
        "        #@markdown >> After a series of derivations, we get: \n",
        "        #@markdown >> $x_t = \\sqrt{\\bar\\alpha_t}x_0+\\sqrt{1-\\bar\\alpha_t}\\epsilon$ ; which means \n",
        "        #@markdown >> $q(x_t|x_0)=N(x_t;\\sqrt{\\bar\\alpha_t}x_0,(1-\\bar\\alpha_t)I)$\n",
        "\n",
        "\n",
        "        #@markdown >> (*) Recall that when we merge two Gaussians with different variance, $N(0,\\sigma^2_1I)$ and $N(0,\\sigma^2_2I)$\n",
        "        #@markdown >> , the new distribution is $N(0,(\\sigma^2_1+\\sigma^2_2)I)$. Here the merged standard deviation is $\\sqrt{(1-\\alpha_t)-\\alpha_t(1-\\alpha_{t-1})}=\\sqrt{1-\\alpha_t\\alpha_{t-1}}$\n",
        "        #@markdown >> \n",
        "        #@markdown >> Usually, we can afford a larger update step when the sample gets noisier, so $\\beta_1<\\beta_2<...<\\beta_T$ and therefore $\\bar\\alpha_1 > ... > \\bar\\alpha_T$\n",
        "\n",
        "\n",
        "\n",
        "\n",
        "        '''\n",
        "        #markdown > formula (6): $q(x_{t−1}|x_t, x_0) = N (x_{t−1}; \\tilde\\mu_t(x_t, x_0), \\tilde\\beta_tI),$\n",
        "        #markdown \n",
        "        #markdown > formula (7): where $\\tilde\\mu_t(x_t, x_0) := \\frac{\\sqrt{\\bar\\alpha_{t-1}}\\beta_t}{1-\\bar\\alpha_t}x_0 + \\frac{\\sqrt{\\alpha_t}(1-\\bar\\alpha_{t-1})}{1-\\bar\\alpha_t}x_t$\n",
        "        #markdown > and $\\tilde\\beta_t:=\\frac{{1-\\bar\\alpha_{t-1}}}{1-\\bar\\alpha_t}\\beta_t$\n",
        "        '''"
      ]
    },
    {
      "cell_type": "code",
      "execution_count": 33,
      "metadata": {
        "cellView": "form",
        "id": "mBXT0fAiH5M1"
      },
      "outputs": [],
      "source": [
        "#@title prepare_noise_schedule, noise_images, sample_timesteps\n",
        "\n",
        "\n",
        "#@markdown `Diffusion.prepare_noise_schedule()` Linear Schedule\n",
        "#@markdown\n",
        "#@markdown > simply get linspace values from $\\beta_{start}$ to $\\beta_{end}$ with $T$ noise steps\n",
        "def prepare_noise_schedule(self):\n",
        "    #@markdown > If you want to change it to cosine schedule like what OpenAI does, \n",
        "    #@markdown > it should be easy to do it here\n",
        "    return torch.linspace(self.beta_start, self.beta_end, self.noise_steps)\n",
        "\n",
        "#@markdown `Diffusion.noise_images(x, t)`\n",
        "def noise_images(self, x, t):\n",
        "    #@markdown > a) samples $\\epsilon$ from $N(0,I)$\n",
        "    e = torch.randn_like(x)\n",
        "    #@markdown > b) forward process $q(x_t|x_{0})$: calculates $T$ diffusion steps in one shot, that is $x_t=\\sqrt{\\bar\\alpha_t}x_0+\\sqrt{1-\\bar\\alpha_t}\\epsilon$\n",
        "    #@markdown >> super cool and fast\n",
        "    sqrt_alpha_hat = torch.sqrt(self.alpha_hat[t])[:, None, None, None]\n",
        "    sqrt_one_minus_alpha_hat = torch.sqrt(1 - self.alpha_hat[t])[:, None, None, None]\n",
        "    \n",
        "    return sqrt_alpha_hat * x + sqrt_one_minus_alpha_hat * e, e\n",
        "\n",
        "#@markdown `Diffusion.sample_timesteps(n)`\n",
        "#@markdown > sample $T$ from $Uniform(\\{1,...,T\\})$\n",
        "def sample_timesteps(self, n):\n",
        "    return torch.randint(low=1, high=self.noise_steps, size=(n,))\n",
        "\n",
        "\n",
        "\n",
        "Diffusion.prepare_noise_schedule = prepare_noise_schedule\n",
        "Diffusion.noise_images = noise_images\n",
        "Diffusion.sample_timesteps = sample_timesteps\n"
      ]
    },
    {
      "cell_type": "markdown",
      "source": [
        "**Forward process** and **Backward process**:\n",
        "\n",
        "*   a fixed (or predefined) forward diffusion process $q$ of our choosing, that gradually adds Gaussian noise to an image, until you end up with pure noise\n",
        "*   a learned reverse denoising diffusion process $p_{\\theta}$, where a neural network is trained to gradually denoise an image starting from pure noise, until you end up with an actual image.\n",
        "\n",
        "\n",
        "\n",
        "<img src=\"https://huggingface.co/blog/assets/78_annotated-diffusion/diffusion_figure.png\" />\n",
        "\n",
        "Both the **forward** and **backward process** indexed by $t$ happen for some number of finite time steps $T$ (the DDPM authors use $T=1000$). You start with $t=0$ where you sample a real image $x_0$\n",
        " from your data distribution (let's say an image of a cat from ImageNet), and the forward process samples some noise from a Gaussian distribution at each time step $t$, which is added to the image of the previous time step. Given a sufficiently large $T$ and a well behaved schedule for adding noise at each time step, you end up with what is called an [isotropic Gaussian](https://math.stackexchange.com/questions/1991961/gaussian-distribution-is-isotropic) distribution at $t=T$ via a gradual process."
      ],
      "metadata": {
        "id": "UNl0AGIPZufw"
      }
    },
    {
      "cell_type": "code",
      "execution_count": 34,
      "metadata": {
        "cellView": "form",
        "id": "Fq3a1kL3IDY-"
      },
      "outputs": [],
      "source": [
        "#@title Algorithm 2 Sampling\n",
        "\n",
        "def sample(self, model, n):\n",
        "    print(datetime.datetime.now(), f\"sample {n} new images....\")\n",
        "    #@markdown <img src=\"https://huggingface.co/blog/assets/78_annotated-diffusion/sampling.png\" width=\"400px\"/>\n",
        "    #@markdown\n",
        "    #@markdown **Algorithm 2** Sampling\n",
        "    #@markdown \n",
        "    #@markdown ---------------     \n",
        "    model.eval()\n",
        "    with torch.no_grad():\n",
        "        #@markdown 1: $x_T \\sim N(0,I)$\n",
        "        #@markdown\n",
        "        #@markdown > sample from Gaussian distribution\n",
        "        #@markdown\n",
        "        #@markdown > the shape of $x_T$ is exactly the same as images: `(n, 3, img_size, img_size)`\n",
        "        x = torch.randn((n, 3, self.img_size, self.img_size)).to(self.device)\n",
        "        #@markdown 2: for $t=T,...,1$ do\n",
        "        #@markdown\n",
        "        #@markdown that is to execute T times the **backward process** $p(x_{t-1}|x_t)$ \n",
        "        for i in tqdm(reversed(range(1, self.noise_steps)), position=0):\n",
        "            #@markdown > 3: $z \\sim N(0,I)$ if $t>1$, else $z=0$\n",
        "            t = (torch.ones(n) * i).long().to(self.device)\n",
        "            #@markdown > 4: $x_{t-1}=\\frac{1}{\\sqrt{\\alpha_t}}(x_t-\\frac{1-\\alpha_t}{\\sqrt{1-\\alpha_t}}\\epsilon_{\\theta}(x_t,t))$\n",
        "            #@markdown \n",
        "            #@markdown >> `model(x, t)` or `predicted_noise` is acutally the $\\epsilon_{\\theta}(x_t,t)$\n",
        "            #@markdown \n",
        "            #@markdown >> Notice, we dont have $ + \\sigma_tz$ in the end, this is because the author think variance is not needed\n",
        "            predicted_noise = model(x, t)\n",
        "            alpha = self.alpha[t][:, None, None, None]\n",
        "            alpha_hat = self.alpha_hat[t][:, None, None, None]\n",
        "            beta = self.beta[t][:, None, None, None]\n",
        "            if i > 1:\n",
        "                noise = torch.randn_like(x)\n",
        "            else:\n",
        "                noise = torch.zeros_like(x)\n",
        "            \n",
        "            x = 1 / torch.sqrt(alpha) * (x - ((1 - alpha) / (torch.sqrt(1 - alpha_hat))) * predicted_noise) + torch.sqrt(beta) * noise\n",
        "            #@markdown 5: end for\n",
        "    model.train()\n",
        "    #@markdown 6: return $x_0$\n",
        "    x = (x.clamp(-1, 1) + 1) / 2\n",
        "    x = (x * 255).type(torch.uint8)\n",
        "    return x\n",
        "\n",
        "Diffusion.sample = sample"
      ]
    },
    {
      "cell_type": "code",
      "execution_count": 45,
      "metadata": {
        "cellView": "form",
        "id": "hSzWYsCAxSDt"
      },
      "outputs": [],
      "source": [
        "#@title Algorithm 1 Training\n",
        "import os\n",
        "import torch\n",
        "import torch.nn as nn\n",
        "from matplotlib import pyplot as plt\n",
        "from tqdm import tqdm\n",
        "from torch import optim\n",
        "import logging\n",
        "from torch.utils.tensorboard import SummaryWriter\n",
        "import IPython\n",
        "import numpy as np\n",
        "\n",
        "def train(args):\n",
        "    setup_logging(args.run_name)\n",
        "    device = args.device\n",
        "    dataloader = get_data(args)\n",
        "    model = UNet().to(device)\n",
        "    optimizer = optim.AdamW(model.parameters(), lr=args.lr)\n",
        "    mse = nn.MSELoss()\n",
        "    diffusion = Diffusion(img_size=args.image_size, device=device)\n",
        "    logger = SummaryWriter(os.path.join(\"runs\", args.run_name))\n",
        "    l = len(dataloader)\t\n",
        "    #@markdown <img src=\"https://huggingface.co/blog/assets/78_annotated-diffusion/training.png\" width=\"400px\"/>\n",
        "    #@markdown \n",
        "    #@markdown **Algorithm 1** Training\n",
        "    #@markdown\n",
        "    #@markdown ---------------\t\n",
        "    #@markdown 1: repeat\n",
        "    for epoch in range(args.epochs):\n",
        "        #IPython.display.clear_output(wait=True)\n",
        "        print(datetime.datetime.now(), f\"epoch: {epoch}:\")\n",
        "        # load data loops and augument a little bit\n",
        "        print(datetime.datetime.now(), \"train\")\n",
        "        pbar = tqdm(dataloader)\n",
        "        losses = []\n",
        "        # for each mini batch\n",
        "        for i, (images, _) in enumerate(pbar):\n",
        "            #@markdown > 2: $x_0 \\sim q(x_0)$\n",
        "            #@markdown >> sample `images` = $x_0$ from dataset\n",
        "            images = images.to(device)\n",
        "            #@markdown > 3: $t \\sim Uniform(\\{1,...,T\\})$ \n",
        "            #@markdown >> sample timesteps `t` for all images at once\n",
        "            t = diffusion.sample_timesteps(images.shape[0]).to(device)\n",
        "            \n",
        "            #@markdown > 4: $\\epsilon \\sim N(0,I)$\n",
        "            #@markdown > \n",
        "            #@markdown > `noise_images(images, t)` does 2 things here:\n",
        "            #@markdown >> \n",
        "            #@markdown >> a) samples $\\epsilon$ from $N(0,I)$\n",
        "            #@markdown >> \n",
        "            #@markdown >> b) **forward process** $q(x_t|x_{0})$: calculates $x_t=\\sqrt{\\bar\\alpha_t}x_0+\\sqrt{1-\\bar\\alpha_t}\\epsilon$\n",
        "            x_t, noise = diffusion.noise_images(images, t)\n",
        "\n",
        "            #@markdown > 5: Take gradient descent step on\n",
        "            #@markdown \n",
        "            #@markdown >> use model (we use UNet() as $\\epsilon_{\\theta}()$) to predict the noise, pass through $(x_t,t)$\n",
        "            #@markdown\n",
        "            #@markdown >> `predicted_noise = `$\\epsilon_{\\theta}(x_t,t)$ = $\\epsilon_{\\theta}(\\sqrt{\\bar\\alpha_t}x_0-\\sqrt{1-\\bar\\alpha_t}\\epsilon,t)$\n",
        "            predicted_noise = model(x_t, t)\n",
        "\n",
        "            #@markdown >> $\\nabla_{\\theta}||\\epsilon - \\epsilon_{\\theta}(\\sqrt{\\bar\\alpha_t}x_0-\\sqrt{1-\\bar\\alpha_t}\\epsilon,t) ||^2 $\n",
        "            #@markdown >> \n",
        "            #@markdown >> Then calculate a MSE loss\n",
        "            loss = mse(noise, predicted_noise)\n",
        "\n",
        "            optimizer.zero_grad()\n",
        "            loss.backward()\n",
        "            optimizer.step()\n",
        "\n",
        "            pbar.set_postfix(MSE=loss.item())\n",
        "            losses.append(loss.item())\n",
        "            logger.add_scalar(\"MSE\", loss.item(), global_step=epoch * l + i)\n",
        "        #@markdown >> average loss for current batch\n",
        "        print(datetime.datetime.now(), 'loss %.8f' % np.array(losses).mean())\n",
        "        \n",
        "        # sample process is extremely time consuming, only execute once every 10 epochs\n",
        "        if not (epoch>0 and epoch%10==0): \n",
        "            continue\n",
        "        #**algorithm 2** is called when predicting\n",
        "        sampled_images = diffusion.sample(model, n=images.shape[0])\n",
        "        save_images(sampled_images, os.path.join(\"results\", args.run_name, f\"{epoch}.jpg\"))\n",
        "        torch.save(model.state_dict(), os.path.join(\"models\", args.run_name, f\"ckpt.pt\"))\n",
        "    #@markdown 6: until converged\n",
        "    #@markdown \n",
        "    #@markdown > *we don't have this step here*\n"
      ]
    },
    {
      "cell_type": "markdown",
      "metadata": {
        "id": "FGfH36ObPGxx"
      },
      "source": [
        "### Train"
      ]
    },
    {
      "cell_type": "code",
      "execution_count": null,
      "metadata": {
        "colab": {
          "base_uri": "https://localhost:8080/",
          "height": 1000
        },
        "id": "-k7wG7vVxUPG",
        "cellView": "form",
        "outputId": "ff97d547-c2a3-4135-8255-6a94a661e912"
      },
      "outputs": [
        {
          "output_type": "stream",
          "name": "stdout",
          "text": [
            "/content/ddpm\n",
            "2022-10-06 10:44:22.040257 epoch: 0:\n",
            "2022-10-06 10:44:22.040386 train\n"
          ]
        },
        {
          "output_type": "stream",
          "name": "stderr",
          "text": [
            "100%|██████████| 1250/1250 [06:27<00:00,  3.22it/s, MSE=0.0383]\n"
          ]
        },
        {
          "output_type": "stream",
          "name": "stdout",
          "text": [
            "2022-10-06 10:50:49.831145 loss 0.05691028\n",
            "2022-10-06 10:50:49.831615 epoch: 1:\n",
            "2022-10-06 10:50:49.831654 train\n"
          ]
        },
        {
          "output_type": "stream",
          "name": "stderr",
          "text": [
            "100%|██████████| 1250/1250 [06:29<00:00,  3.21it/s, MSE=0.0143]\n"
          ]
        },
        {
          "output_type": "stream",
          "name": "stdout",
          "text": [
            "2022-10-06 10:57:18.984181 loss 0.02095814\n",
            "2022-10-06 10:57:18.984572 epoch: 2:\n",
            "2022-10-06 10:57:18.984610 train\n"
          ]
        },
        {
          "output_type": "stream",
          "name": "stderr",
          "text": [
            "100%|██████████| 1250/1250 [06:29<00:00,  3.21it/s, MSE=0.0194]\n"
          ]
        },
        {
          "output_type": "stream",
          "name": "stdout",
          "text": [
            "2022-10-06 11:03:48.299746 loss 0.01773479\n",
            "2022-10-06 11:03:48.300119 epoch: 3:\n",
            "2022-10-06 11:03:48.300158 train\n"
          ]
        },
        {
          "output_type": "stream",
          "name": "stderr",
          "text": [
            "100%|██████████| 1250/1250 [06:28<00:00,  3.21it/s, MSE=0.0123]\n"
          ]
        },
        {
          "output_type": "stream",
          "name": "stdout",
          "text": [
            "2022-10-06 11:10:17.184838 loss 0.01621188\n",
            "2022-10-06 11:10:17.185361 epoch: 4:\n",
            "2022-10-06 11:10:17.185401 train\n"
          ]
        },
        {
          "output_type": "stream",
          "name": "stderr",
          "text": [
            "100%|██████████| 1250/1250 [06:28<00:00,  3.22it/s, MSE=0.00663]\n"
          ]
        },
        {
          "output_type": "stream",
          "name": "stdout",
          "text": [
            "2022-10-06 11:16:45.904066 loss 0.01514003\n",
            "2022-10-06 11:16:45.904422 epoch: 5:\n",
            "2022-10-06 11:16:45.904494 train\n"
          ]
        },
        {
          "output_type": "stream",
          "name": "stderr",
          "text": [
            "100%|██████████| 1250/1250 [06:28<00:00,  3.22it/s, MSE=0.0199]\n"
          ]
        },
        {
          "output_type": "stream",
          "name": "stdout",
          "text": [
            "2022-10-06 11:23:14.625640 loss 0.01446826\n",
            "2022-10-06 11:23:14.625973 epoch: 6:\n",
            "2022-10-06 11:23:14.626013 train\n"
          ]
        },
        {
          "output_type": "stream",
          "name": "stderr",
          "text": [
            "100%|██████████| 1250/1250 [06:28<00:00,  3.22it/s, MSE=0.0197]\n"
          ]
        },
        {
          "output_type": "stream",
          "name": "stdout",
          "text": [
            "2022-10-06 11:29:42.842994 loss 0.01398997\n",
            "2022-10-06 11:29:42.843450 epoch: 7:\n",
            "2022-10-06 11:29:42.843493 train\n"
          ]
        },
        {
          "output_type": "stream",
          "name": "stderr",
          "text": [
            "100%|██████████| 1250/1250 [06:28<00:00,  3.22it/s, MSE=0.00555]\n"
          ]
        },
        {
          "output_type": "stream",
          "name": "stdout",
          "text": [
            "2022-10-06 11:36:11.024964 loss 0.01326218\n",
            "2022-10-06 11:36:11.025310 epoch: 8:\n",
            "2022-10-06 11:36:11.025344 train\n"
          ]
        },
        {
          "output_type": "stream",
          "name": "stderr",
          "text": [
            "100%|██████████| 1250/1250 [06:28<00:00,  3.22it/s, MSE=0.0107]\n"
          ]
        },
        {
          "output_type": "stream",
          "name": "stdout",
          "text": [
            "2022-10-06 11:42:39.305668 loss 0.01300647\n",
            "2022-10-06 11:42:39.306844 epoch: 9:\n",
            "2022-10-06 11:42:39.306886 train\n"
          ]
        },
        {
          "output_type": "stream",
          "name": "stderr",
          "text": [
            "100%|██████████| 1250/1250 [06:28<00:00,  3.22it/s, MSE=0.00496]\n"
          ]
        },
        {
          "output_type": "stream",
          "name": "stdout",
          "text": [
            "2022-10-06 11:49:07.941219 loss 0.01304030\n",
            "2022-10-06 11:49:07.942974 epoch: 10:\n",
            "2022-10-06 11:49:07.943019 train\n"
          ]
        },
        {
          "output_type": "stream",
          "name": "stderr",
          "text": [
            "100%|██████████| 1250/1250 [06:28<00:00,  3.21it/s, MSE=0.0094]\n"
          ]
        },
        {
          "output_type": "stream",
          "name": "stdout",
          "text": [
            "2022-10-06 11:55:36.783111 loss 0.01261606\n",
            "2022-10-06 11:55:36.783662 sample 8 new images....\n"
          ]
        },
        {
          "output_type": "stream",
          "name": "stderr",
          "text": [
            "999it [01:45,  9.50it/s]\n"
          ]
        },
        {
          "output_type": "display_data",
          "data": {
            "text/plain": [
              "<PIL.Image.Image image mode=RGB size=530x68 at 0x7FE55C2E9110>"
            ],
            "image/png": "[encoded data removed]"
          },
          "metadata": {}
        },
        {
          "output_type": "stream",
          "name": "stdout",
          "text": [
            "2022-10-06 11:57:22.266518 epoch: 11:\n",
            "2022-10-06 11:57:22.266681 train\n"
          ]
        },
        {
          "output_type": "stream",
          "name": "stderr",
          "text": [
            "100%|██████████| 1250/1250 [06:29<00:00,  3.21it/s, MSE=0.0376]\n"
          ]
        },
        {
          "output_type": "stream",
          "name": "stdout",
          "text": [
            "2022-10-06 12:03:51.605021 loss 0.01214095\n",
            "2022-10-06 12:03:51.605373 epoch: 12:\n",
            "2022-10-06 12:03:51.605413 train\n"
          ]
        },
        {
          "output_type": "stream",
          "name": "stderr",
          "text": [
            "100%|██████████| 1250/1250 [06:29<00:00,  3.21it/s, MSE=0.0192]\n"
          ]
        },
        {
          "output_type": "stream",
          "name": "stdout",
          "text": [
            "2022-10-06 12:10:20.770181 loss 0.01210485\n",
            "2022-10-06 12:10:20.770581 epoch: 13:\n",
            "2022-10-06 12:10:20.770620 train\n"
          ]
        },
        {
          "output_type": "stream",
          "name": "stderr",
          "text": [
            "100%|██████████| 1250/1250 [06:29<00:00,  3.21it/s, MSE=0.0181]\n"
          ]
        },
        {
          "output_type": "stream",
          "name": "stdout",
          "text": [
            "2022-10-06 12:16:50.164213 loss 0.01178522\n",
            "2022-10-06 12:16:50.164586 epoch: 14:\n",
            "2022-10-06 12:16:50.164624 train\n"
          ]
        },
        {
          "output_type": "stream",
          "name": "stderr",
          "text": [
            "100%|██████████| 1250/1250 [06:29<00:00,  3.21it/s, MSE=0.0123]\n"
          ]
        },
        {
          "output_type": "stream",
          "name": "stdout",
          "text": [
            "2022-10-06 12:23:19.612089 loss 0.01153853\n",
            "2022-10-06 12:23:19.612580 epoch: 15:\n",
            "2022-10-06 12:23:19.612616 train\n"
          ]
        },
        {
          "output_type": "stream",
          "name": "stderr",
          "text": [
            "100%|██████████| 1250/1250 [06:29<00:00,  3.21it/s, MSE=0.0125]\n"
          ]
        },
        {
          "output_type": "stream",
          "name": "stdout",
          "text": [
            "2022-10-06 12:29:49.011124 loss 0.01146643\n",
            "2022-10-06 12:29:49.011559 epoch: 16:\n",
            "2022-10-06 12:29:49.011607 train\n"
          ]
        },
        {
          "output_type": "stream",
          "name": "stderr",
          "text": [
            "100%|██████████| 1250/1250 [06:32<00:00,  3.18it/s, MSE=0.00546]\n"
          ]
        },
        {
          "output_type": "stream",
          "name": "stdout",
          "text": [
            "2022-10-06 12:36:22.014532 loss 0.01130828\n",
            "2022-10-06 12:36:22.015024 epoch: 17:\n",
            "2022-10-06 12:36:22.015065 train\n"
          ]
        },
        {
          "output_type": "stream",
          "name": "stderr",
          "text": [
            "100%|██████████| 1250/1250 [06:30<00:00,  3.20it/s, MSE=0.019]\n"
          ]
        },
        {
          "output_type": "stream",
          "name": "stdout",
          "text": [
            "2022-10-06 12:42:52.919892 loss 0.01164330\n",
            "2022-10-06 12:42:52.920323 epoch: 18:\n",
            "2022-10-06 12:42:52.920368 train\n"
          ]
        },
        {
          "output_type": "stream",
          "name": "stderr",
          "text": [
            "100%|██████████| 1250/1250 [06:31<00:00,  3.19it/s, MSE=0.00925]\n"
          ]
        },
        {
          "output_type": "stream",
          "name": "stdout",
          "text": [
            "2022-10-06 12:49:24.877288 loss 0.01107745\n",
            "2022-10-06 12:49:24.877782 epoch: 19:\n",
            "2022-10-06 12:49:24.877824 train\n"
          ]
        },
        {
          "output_type": "stream",
          "name": "stderr",
          "text": [
            "100%|██████████| 1250/1250 [06:33<00:00,  3.18it/s, MSE=0.00276]\n"
          ]
        },
        {
          "output_type": "stream",
          "name": "stdout",
          "text": [
            "2022-10-06 12:55:58.209529 loss 0.01097001\n",
            "2022-10-06 12:55:58.210692 epoch: 20:\n",
            "2022-10-06 12:55:58.210735 train\n"
          ]
        },
        {
          "output_type": "stream",
          "name": "stderr",
          "text": [
            "100%|██████████| 1250/1250 [06:32<00:00,  3.19it/s, MSE=0.00595]\n"
          ]
        },
        {
          "output_type": "stream",
          "name": "stdout",
          "text": [
            "2022-10-06 13:02:30.344954 loss 0.01168136\n",
            "2022-10-06 13:02:30.345345 sample 8 new images....\n"
          ]
        },
        {
          "output_type": "stream",
          "name": "stderr",
          "text": [
            "999it [01:44,  9.53it/s]\n"
          ]
        },
        {
          "output_type": "display_data",
          "data": {
            "text/plain": [
              "<PIL.Image.Image image mode=RGB size=530x68 at 0x7FE55C1B7990>"
            ],
            "image/png": "[encoded data removed]"
          },
          "metadata": {}
        },
        {
          "output_type": "stream",
          "name": "stdout",
          "text": [
            "2022-10-06 13:04:15.535913 epoch: 21:\n",
            "2022-10-06 13:04:15.536091 train\n"
          ]
        },
        {
          "output_type": "stream",
          "name": "stderr",
          "text": [
            "100%|██████████| 1250/1250 [06:26<00:00,  3.23it/s, MSE=0.00796]\n"
          ]
        },
        {
          "output_type": "stream",
          "name": "stdout",
          "text": [
            "2022-10-06 13:10:41.973931 loss 0.01130582\n",
            "2022-10-06 13:10:41.975394 epoch: 22:\n",
            "2022-10-06 13:10:41.975455 train\n"
          ]
        },
        {
          "output_type": "stream",
          "name": "stderr",
          "text": [
            "100%|██████████| 1250/1250 [06:25<00:00,  3.25it/s, MSE=0.00564]\n"
          ]
        },
        {
          "output_type": "stream",
          "name": "stdout",
          "text": [
            "2022-10-06 13:17:07.083400 loss 0.01115919\n",
            "2022-10-06 13:17:07.083825 epoch: 23:\n",
            "2022-10-06 13:17:07.083866 train\n"
          ]
        },
        {
          "output_type": "stream",
          "name": "stderr",
          "text": [
            "100%|██████████| 1250/1250 [06:23<00:00,  3.26it/s, MSE=0.0125]\n"
          ]
        },
        {
          "output_type": "stream",
          "name": "stdout",
          "text": [
            "2022-10-06 13:23:30.864243 loss 0.01111821\n",
            "2022-10-06 13:23:30.864599 epoch: 24:\n",
            "2022-10-06 13:23:30.864636 train\n"
          ]
        },
        {
          "output_type": "stream",
          "name": "stderr",
          "text": [
            "100%|██████████| 1250/1250 [06:26<00:00,  3.23it/s, MSE=0.0101]\n"
          ]
        },
        {
          "output_type": "stream",
          "name": "stdout",
          "text": [
            "2022-10-06 13:29:57.527863 loss 0.01104765\n",
            "2022-10-06 13:29:57.528347 epoch: 25:\n",
            "2022-10-06 13:29:57.528389 train\n"
          ]
        },
        {
          "output_type": "stream",
          "name": "stderr",
          "text": [
            "100%|██████████| 1250/1250 [06:31<00:00,  3.19it/s, MSE=0.0151]\n"
          ]
        },
        {
          "output_type": "stream",
          "name": "stdout",
          "text": [
            "2022-10-06 13:36:29.195213 loss 0.01110075\n",
            "2022-10-06 13:36:29.195587 epoch: 26:\n",
            "2022-10-06 13:36:29.195623 train\n"
          ]
        },
        {
          "output_type": "stream",
          "name": "stderr",
          "text": [
            "100%|██████████| 1250/1250 [06:36<00:00,  3.15it/s, MSE=0.0146]\n"
          ]
        },
        {
          "output_type": "stream",
          "name": "stdout",
          "text": [
            "2022-10-06 13:43:05.935712 loss 0.01091184\n",
            "2022-10-06 13:43:05.936104 epoch: 27:\n",
            "2022-10-06 13:43:05.936150 train\n"
          ]
        },
        {
          "output_type": "stream",
          "name": "stderr",
          "text": [
            "100%|██████████| 1250/1250 [06:32<00:00,  3.19it/s, MSE=0.00638]\n"
          ]
        },
        {
          "output_type": "stream",
          "name": "stdout",
          "text": [
            "2022-10-06 13:49:38.361304 loss 0.01129729\n",
            "2022-10-06 13:49:38.361763 epoch: 28:\n",
            "2022-10-06 13:49:38.361805 train\n"
          ]
        },
        {
          "output_type": "stream",
          "name": "stderr",
          "text": [
            "100%|██████████| 1250/1250 [06:32<00:00,  3.19it/s, MSE=0.00386]\n"
          ]
        },
        {
          "output_type": "stream",
          "name": "stdout",
          "text": [
            "2022-10-06 13:56:10.823387 loss 0.01075631\n",
            "2022-10-06 13:56:10.823763 epoch: 29:\n",
            "2022-10-06 13:56:10.823800 train\n"
          ]
        },
        {
          "output_type": "stream",
          "name": "stderr",
          "text": [
            "100%|██████████| 1250/1250 [06:32<00:00,  3.18it/s, MSE=0.00641]\n"
          ]
        },
        {
          "output_type": "stream",
          "name": "stdout",
          "text": [
            "2022-10-06 14:02:43.599587 loss 0.01085799\n",
            "2022-10-06 14:02:43.599941 epoch: 30:\n",
            "2022-10-06 14:02:43.599994 train\n"
          ]
        },
        {
          "output_type": "stream",
          "name": "stderr",
          "text": [
            "100%|██████████| 1250/1250 [06:32<00:00,  3.19it/s, MSE=0.00585]\n"
          ]
        },
        {
          "output_type": "stream",
          "name": "stdout",
          "text": [
            "2022-10-06 14:09:16.037629 loss 0.01045670\n",
            "2022-10-06 14:09:16.038945 sample 8 new images....\n"
          ]
        },
        {
          "output_type": "stream",
          "name": "stderr",
          "text": [
            "999it [01:45,  9.48it/s]\n"
          ]
        },
        {
          "output_type": "display_data",
          "data": {
            "text/plain": [
              "<PIL.Image.Image image mode=RGB size=530x68 at 0x7FE55C21A510>"
            ],
            "image/png": "[encoded data removed]"
          },
          "metadata": {}
        },
        {
          "output_type": "stream",
          "name": "stdout",
          "text": [
            "2022-10-06 14:11:01.775346 epoch: 31:\n",
            "2022-10-06 14:11:01.777571 train\n"
          ]
        },
        {
          "output_type": "stream",
          "name": "stderr",
          "text": [
            " 92%|█████████▏| 1154/1250 [06:00<00:29,  3.21it/s, MSE=0.00651]"
          ]
        }
      ],
      "source": [
        "#@title execute the training process\n",
        "%cd /content/ddpm\n",
        "\n",
        "#@markdown Input parameters:\n",
        "runName = \"DDPM_Uncondtional\" #@param {\"type\":\"string\"}\n",
        "epochs = 500 #@param {\"type\":\"integer\"}\n",
        "batchSize = 8 #@param {\"type\":\"integer\"}\n",
        "imageSize = 64 #@param {\"type\":\"integer\"}\n",
        "datasetPath = \"/content/ddpm/dataset\" #@param {\"type\":\"string\"}\n",
        "device = \"cuda\" #@param [\"cuda\", \"cpu\"]\n",
        "lr = 3e-4 #@param {\"type\":\"number\"}\n",
        "\n",
        "\n",
        "class Args():\n",
        "    def __init__(self):    \n",
        "        self.run_name = runName\n",
        "        self.epochs = epochs\n",
        "        self.batch_size = batchSize\n",
        "        self.image_size = imageSize\n",
        "        self.dataset_path = datasetPath\n",
        "        self.device = device\n",
        "        self.lr = lr\n",
        "\n",
        "train(Args())\n",
        "\n"
      ]
    },
    {
      "cell_type": "markdown",
      "source": [
        "### References\n",
        "*  Diffusion Models\n",
        " https://github.com/dome272/Diffusion-Models-pytorch/\n",
        "*  What are Diffusion Models?\n",
        " https://lilianweng.github.io/posts/2021-07-11-diffusion-models/\n",
        "*  The Annotated Diffusion Model\n",
        " https://huggingface.co/blog/annotated-diffusion\n",
        "\n",
        "*  Gaussian distribution is isotropic? https://math.stackexchange.com/questions/1991961/gaussian-distribution-is-isotropic\n",
        "\n",
        "*  Denoising Diffusion Probabilistic Models https://arxiv.org/pdf/2006.11239.pdf\n",
        "*  Deep Unsupervised Learning using Nonequilibrium Thermodynamics https://arxiv.org/pdf/1503.03585.pdf"
      ],
      "metadata": {
        "id": "UO695Ri6cIll"
      }
    }
  ],
  "metadata": {
    "accelerator": "GPU",
    "colab": {
      "collapsed_sections": [
        "XC6PidnDHP3M",
        "UmFHvvM1GDUu",
        "BAK6POjGHCxH"
      ],
      "provenance": [],
      "authorship_tag": "ABX9TyPIQq6oFm39DhUOJI+DTf0M",
      "include_colab_link": true
    },
    "gpuClass": "standard",
    "kernelspec": {
      "display_name": "Python 3",
      "name": "python3"
    },
    "language_info": {
      "name": "python"
    }
  },
  "nbformat": 4,
  "nbformat_minor": 0
}