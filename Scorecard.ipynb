{
  "nbformat": 4,
  "nbformat_minor": 0,
  "metadata": {
    "colab": {
      "name": "Scorecard.ipynb",
      "version": "0.3.2",
      "provenance": [],
      "collapsed_sections": [],
      "include_colab_link": true
    },
    "kernelspec": {
      "name": "python3",
      "display_name": "Python 3"
    }
  },
  "cells": [
    {
      "cell_type": "markdown",
      "metadata": {
        "id": "view-in-github",
        "colab_type": "text"
      },
      "source": [
        "<a href=\"https://colab.research.google.com/github/Erickrus/leetcode/blob/master/Scorecard.ipynb\" target=\"_parent\"><img src=\"https://colab.research.google.com/assets/colab-badge.svg\" alt=\"Open In Colab\"/></a>"
      ]
    },
    {
      "metadata": {
        "id": "BsjHRHzDjxkf",
        "colab_type": "code",
        "colab": {}
      },
      "cell_type": "code",
      "source": [
        "import math\n",
        "import matplotlib.pyplot as plt\n",
        "%matplotlib inline \n",
        "import pandas as pd\n",
        "#!pip3 install pandasql\n",
        "import pandasql as pdsql\n",
        "from google.colab import drive\n",
        "# drive.mount('/content/drive')"
      ],
      "execution_count": 0,
      "outputs": []
    },
    {
      "metadata": {
        "id": "9e3GE2uppn3c",
        "colab_type": "code",
        "colab": {}
      },
      "cell_type": "code",
      "source": [
        "class Scorecard:\n",
        "  # PDO - Points to double\n",
        "  # https://zhuanlan.zhihu.com/p/29776029\n",
        "  def __init__(self, P0, pointsToDouble, p):\n",
        "    self.P0 = P0\n",
        "    self.pointsToDouble = pointsToDouble\n",
        "    self.p = p\n",
        "    odds = p/(1.0-p)\n",
        "    self.B = pointsToDouble / math.log(2.0)\n",
        "    self.A = P0 + self.B * math.log(odds)\n",
        "    \n",
        "  def score(self, p):\n",
        "    return self.A - self.B * math.log(p/(1-p))"
      ],
      "execution_count": 0,
      "outputs": []
    },
    {
      "metadata": {
        "id": "UjyaAbHCp4TH",
        "colab_type": "code",
        "colab": {}
      },
      "cell_type": "code",
      "source": [
        "class FeatureProcessor:\n",
        "  # formula taken from following link:\n",
        "  # http://ucanalytics.com/blogs/information-value-and-weight-of-evidencebanking-case/\n",
        "  def woe(self, df, binCol, totNumCol, badNumCol):\n",
        "    result = pd.DataFrame([], columns={\n",
        "      \"bin_id\",\n",
        "      \"tot_num\",\"tot_good_num\",\"tot_bad_num\",\n",
        "      \"all_num\", \"good_num\",\"bad_num\",\n",
        "      \"dist_good\", \"dist_bad\",\n",
        "      \"weight_of_evidence\", \"info_val\"})    \n",
        "    totNum = df.loc[:,totNumCol].sum()\n",
        "    badNum = df.loc[:,badNumCol].sum()\n",
        "    goodNum = totNum - badNum\n",
        "    \n",
        "    for i in range(len(df2.index)):\n",
        "      distGood = (df.loc[:,totNumCol][i] - df.loc[:,badNumCol][i]) / totNum\n",
        "      distBad = df.loc[:,badNumCol][i] / totNum\n",
        "      result = result.append({\n",
        "        \"bin_id\": df.loc[:,binCol][i],\n",
        "        \"tot_num\": totNum,\n",
        "        \"tot_good_num\": goodNum,\n",
        "        \"tot_bad_num\": badNum,\n",
        "        \"all_num\": df.loc[:,totNumCol][i],\n",
        "        \"good_num\": (df.loc[:,totNumCol][i] - df.loc[:,badNumCol][i]),\n",
        "        \"bad_num\": df.loc[:,badNumCol][i],\n",
        "        \"dist_good\": distGood,\n",
        "        \"dist_bad\": distBad,\n",
        "        \"weight_of_evidence\": math.log(distGood / distBad), \n",
        "        \"info_val\":(distGood - distBad) * math.log(distGood / distBad)},\n",
        "        ignore_index=True\n",
        "      )\n",
        "    iv = result.loc[:,\"info_val\"].sum()\n",
        "    return result, iv\n",
        "  \n",
        "  def intepret_iv(self, iv):\n",
        "    ivRange = [\n",
        "      [0,    0.02, \"Useless for prediction\"],\n",
        "      [0.02, 0.1,  \"Weak predictor\"],\n",
        "      [0.1,  0.3,  \"Medium predictor\"],\n",
        "      [0.3,  0.5,  \"Strong predictor\"],\n",
        "      [0.5,  \"+\",  \"Suspicious or too good to be true\"]]\n",
        "    for i in range(len(ivRange)):\n",
        "      if i != len(ivRange)-1:\n",
        "        if iv >= ivRange[i][0] and iv < ivRange[i][1]:\n",
        "          return ivRange[i][2]\n",
        "      else:\n",
        "        if iv >= ivRange[i][0]:\n",
        "          return ivRange[i][2]\n",
        "    return \"Invalid\""
      ],
      "execution_count": 0,
      "outputs": []
    },
    {
      "metadata": {
        "id": "_pHA1U1YmIvM",
        "colab_type": "code",
        "colab": {
          "base_uri": "https://localhost:8080/",
          "height": 297
        },
        "outputId": "69a4a687-91f1-4046-fcb0-440b2c217c71"
      },
      "cell_type": "code",
      "source": [
        "# https://archive.ics.uci.edu/ml/machine-learning-databases/00222/bank.zip\n",
        "df = pd.read_csv(\"/content/drive/My Drive/creditcard_model/data/bank.csv\", delimiter=\";\")\n",
        "df2 = pdsql.sqldf(\"\"\"\n",
        "SELECT\n",
        "   ROUND(age/10,0) bin,\n",
        "   COUNT(1) AS total_num,\n",
        "   SUM(CASE\n",
        "      WHEN y='yes' THEN 1\n",
        "      ELSE 0\n",
        "   END) AS bad_num\n",
        "FROM df\n",
        "GROUP BY ROUND(age/10,0)\n",
        "\"\"\")\n",
        "df2.head(10)"
      ],
      "execution_count": 88,
      "outputs": [
        {
          "output_type": "execute_result",
          "data": {
            "text/html": [
              "<div>\n",
              "<style scoped>\n",
              "    .dataframe tbody tr th:only-of-type {\n",
              "        vertical-align: middle;\n",
              "    }\n",
              "\n",
              "    .dataframe tbody tr th {\n",
              "        vertical-align: top;\n",
              "    }\n",
              "\n",
              "    .dataframe thead th {\n",
              "        text-align: right;\n",
              "    }\n",
              "</style>\n",
              "<table border=\"1\" class=\"dataframe\">\n",
              "  <thead>\n",
              "    <tr style=\"text-align: right;\">\n",
              "      <th></th>\n",
              "      <th>bin</th>\n",
              "      <th>total_num</th>\n",
              "      <th>bad_num</th>\n",
              "    </tr>\n",
              "  </thead>\n",
              "  <tbody>\n",
              "    <tr>\n",
              "      <th>0</th>\n",
              "      <td>1.0</td>\n",
              "      <td>4</td>\n",
              "      <td>2</td>\n",
              "    </tr>\n",
              "    <tr>\n",
              "      <th>1</th>\n",
              "      <td>2.0</td>\n",
              "      <td>478</td>\n",
              "      <td>72</td>\n",
              "    </tr>\n",
              "    <tr>\n",
              "      <th>2</th>\n",
              "      <td>3.0</td>\n",
              "      <td>1808</td>\n",
              "      <td>185</td>\n",
              "    </tr>\n",
              "    <tr>\n",
              "      <th>3</th>\n",
              "      <td>4.0</td>\n",
              "      <td>1203</td>\n",
              "      <td>123</td>\n",
              "    </tr>\n",
              "    <tr>\n",
              "      <th>4</th>\n",
              "      <td>5.0</td>\n",
              "      <td>854</td>\n",
              "      <td>84</td>\n",
              "    </tr>\n",
              "    <tr>\n",
              "      <th>5</th>\n",
              "      <td>6.0</td>\n",
              "      <td>113</td>\n",
              "      <td>31</td>\n",
              "    </tr>\n",
              "    <tr>\n",
              "      <th>6</th>\n",
              "      <td>7.0</td>\n",
              "      <td>47</td>\n",
              "      <td>18</td>\n",
              "    </tr>\n",
              "    <tr>\n",
              "      <th>7</th>\n",
              "      <td>8.0</td>\n",
              "      <td>14</td>\n",
              "      <td>6</td>\n",
              "    </tr>\n",
              "  </tbody>\n",
              "</table>\n",
              "</div>"
            ],
            "text/plain": [
              "   bin  total_num  bad_num\n",
              "0  1.0          4        2\n",
              "1  2.0        478       72\n",
              "2  3.0       1808      185\n",
              "3  4.0       1203      123\n",
              "4  5.0        854       84\n",
              "5  6.0        113       31\n",
              "6  7.0         47       18\n",
              "7  8.0         14        6"
            ]
          },
          "metadata": {
            "tags": []
          },
          "execution_count": 88
        }
      ]
    },
    {
      "metadata": {
        "id": "j7fWUxmAmJB6",
        "colab_type": "code",
        "colab": {
          "base_uri": "https://localhost:8080/",
          "height": 297
        },
        "outputId": "2e4dd71f-3509-4837-82cd-7aa1a819848d"
      },
      "cell_type": "code",
      "source": [
        "fp = FeatureProcessor()\n",
        "woeDf, iv = fp.woe(df2, 'bin', 'total_num', 'bad_num')\n",
        "woeDf[[\"bin_id\",\n",
        "      \"tot_num\",\"tot_good_num\",\"tot_bad_num\",\n",
        "      \"all_num\", \"good_num\",\"bad_num\",\n",
        "      \"dist_good\", \"dist_bad\",\n",
        "      \"weight_of_evidence\", \"info_val\"]]"
      ],
      "execution_count": 84,
      "outputs": [
        {
          "output_type": "execute_result",
          "data": {
            "text/html": [
              "<div>\n",
              "<style scoped>\n",
              "    .dataframe tbody tr th:only-of-type {\n",
              "        vertical-align: middle;\n",
              "    }\n",
              "\n",
              "    .dataframe tbody tr th {\n",
              "        vertical-align: top;\n",
              "    }\n",
              "\n",
              "    .dataframe thead th {\n",
              "        text-align: right;\n",
              "    }\n",
              "</style>\n",
              "<table border=\"1\" class=\"dataframe\">\n",
              "  <thead>\n",
              "    <tr style=\"text-align: right;\">\n",
              "      <th></th>\n",
              "      <th>bin_id</th>\n",
              "      <th>tot_num</th>\n",
              "      <th>tot_good_num</th>\n",
              "      <th>tot_bad_num</th>\n",
              "      <th>all_num</th>\n",
              "      <th>good_num</th>\n",
              "      <th>bad_num</th>\n",
              "      <th>dist_good</th>\n",
              "      <th>dist_bad</th>\n",
              "      <th>weight_of_evidence</th>\n",
              "      <th>info_val</th>\n",
              "    </tr>\n",
              "  </thead>\n",
              "  <tbody>\n",
              "    <tr>\n",
              "      <th>0</th>\n",
              "      <td>1.0</td>\n",
              "      <td>4521.0</td>\n",
              "      <td>4000.0</td>\n",
              "      <td>521.0</td>\n",
              "      <td>4.0</td>\n",
              "      <td>2.0</td>\n",
              "      <td>2.0</td>\n",
              "      <td>0.000442</td>\n",
              "      <td>0.000442</td>\n",
              "      <td>0.000000</td>\n",
              "      <td>0.000000</td>\n",
              "    </tr>\n",
              "    <tr>\n",
              "      <th>1</th>\n",
              "      <td>2.0</td>\n",
              "      <td>4521.0</td>\n",
              "      <td>4000.0</td>\n",
              "      <td>521.0</td>\n",
              "      <td>478.0</td>\n",
              "      <td>406.0</td>\n",
              "      <td>72.0</td>\n",
              "      <td>0.089803</td>\n",
              "      <td>0.015926</td>\n",
              "      <td>1.729687</td>\n",
              "      <td>0.127785</td>\n",
              "    </tr>\n",
              "    <tr>\n",
              "      <th>2</th>\n",
              "      <td>3.0</td>\n",
              "      <td>4521.0</td>\n",
              "      <td>4000.0</td>\n",
              "      <td>521.0</td>\n",
              "      <td>1808.0</td>\n",
              "      <td>1623.0</td>\n",
              "      <td>185.0</td>\n",
              "      <td>0.358991</td>\n",
              "      <td>0.040920</td>\n",
              "      <td>2.171676</td>\n",
              "      <td>0.690748</td>\n",
              "    </tr>\n",
              "    <tr>\n",
              "      <th>3</th>\n",
              "      <td>4.0</td>\n",
              "      <td>4521.0</td>\n",
              "      <td>4000.0</td>\n",
              "      <td>521.0</td>\n",
              "      <td>1203.0</td>\n",
              "      <td>1080.0</td>\n",
              "      <td>123.0</td>\n",
              "      <td>0.238885</td>\n",
              "      <td>0.027206</td>\n",
              "      <td>2.172532</td>\n",
              "      <td>0.459879</td>\n",
              "    </tr>\n",
              "    <tr>\n",
              "      <th>4</th>\n",
              "      <td>5.0</td>\n",
              "      <td>4521.0</td>\n",
              "      <td>4000.0</td>\n",
              "      <td>521.0</td>\n",
              "      <td>854.0</td>\n",
              "      <td>770.0</td>\n",
              "      <td>84.0</td>\n",
              "      <td>0.170316</td>\n",
              "      <td>0.018580</td>\n",
              "      <td>2.215574</td>\n",
              "      <td>0.336183</td>\n",
              "    </tr>\n",
              "    <tr>\n",
              "      <th>5</th>\n",
              "      <td>6.0</td>\n",
              "      <td>4521.0</td>\n",
              "      <td>4000.0</td>\n",
              "      <td>521.0</td>\n",
              "      <td>113.0</td>\n",
              "      <td>82.0</td>\n",
              "      <td>31.0</td>\n",
              "      <td>0.018138</td>\n",
              "      <td>0.006857</td>\n",
              "      <td>0.972732</td>\n",
              "      <td>0.010973</td>\n",
              "    </tr>\n",
              "    <tr>\n",
              "      <th>6</th>\n",
              "      <td>7.0</td>\n",
              "      <td>4521.0</td>\n",
              "      <td>4000.0</td>\n",
              "      <td>521.0</td>\n",
              "      <td>47.0</td>\n",
              "      <td>29.0</td>\n",
              "      <td>18.0</td>\n",
              "      <td>0.006415</td>\n",
              "      <td>0.003981</td>\n",
              "      <td>0.476924</td>\n",
              "      <td>0.001160</td>\n",
              "    </tr>\n",
              "    <tr>\n",
              "      <th>7</th>\n",
              "      <td>8.0</td>\n",
              "      <td>4521.0</td>\n",
              "      <td>4000.0</td>\n",
              "      <td>521.0</td>\n",
              "      <td>14.0</td>\n",
              "      <td>8.0</td>\n",
              "      <td>6.0</td>\n",
              "      <td>0.001770</td>\n",
              "      <td>0.001327</td>\n",
              "      <td>0.287682</td>\n",
              "      <td>0.000127</td>\n",
              "    </tr>\n",
              "  </tbody>\n",
              "</table>\n",
              "</div>"
            ],
            "text/plain": [
              "   bin_id  tot_num  tot_good_num  tot_bad_num  all_num  good_num  bad_num  \\\n",
              "0     1.0   4521.0        4000.0        521.0      4.0       2.0      2.0   \n",
              "1     2.0   4521.0        4000.0        521.0    478.0     406.0     72.0   \n",
              "2     3.0   4521.0        4000.0        521.0   1808.0    1623.0    185.0   \n",
              "3     4.0   4521.0        4000.0        521.0   1203.0    1080.0    123.0   \n",
              "4     5.0   4521.0        4000.0        521.0    854.0     770.0     84.0   \n",
              "5     6.0   4521.0        4000.0        521.0    113.0      82.0     31.0   \n",
              "6     7.0   4521.0        4000.0        521.0     47.0      29.0     18.0   \n",
              "7     8.0   4521.0        4000.0        521.0     14.0       8.0      6.0   \n",
              "\n",
              "   dist_good  dist_bad  weight_of_evidence  info_val  \n",
              "0   0.000442  0.000442            0.000000  0.000000  \n",
              "1   0.089803  0.015926            1.729687  0.127785  \n",
              "2   0.358991  0.040920            2.171676  0.690748  \n",
              "3   0.238885  0.027206            2.172532  0.459879  \n",
              "4   0.170316  0.018580            2.215574  0.336183  \n",
              "5   0.018138  0.006857            0.972732  0.010973  \n",
              "6   0.006415  0.003981            0.476924  0.001160  \n",
              "7   0.001770  0.001327            0.287682  0.000127  "
            ]
          },
          "metadata": {
            "tags": []
          },
          "execution_count": 84
        }
      ]
    },
    {
      "metadata": {
        "id": "GRUZUe4smRrI",
        "colab_type": "code",
        "colab": {
          "base_uri": "https://localhost:8080/",
          "height": 301
        },
        "outputId": "3692c7d5-9a17-4a59-911b-bbce09d1e07e"
      },
      "cell_type": "code",
      "source": [
        "print(\"iv = %2.4f: %s\"%(iv, fp.intepret_iv(iv)))\n",
        "plt.plot(woeDf.loc[:,\"bin_id\"], woeDf.loc[:,\"info_val\"])\n"
      ],
      "execution_count": 85,
      "outputs": [
        {
          "output_type": "stream",
          "text": [
            "iv = 1.6269: Suspicious or too good to be true\n"
          ],
          "name": "stdout"
        },
        {
          "output_type": "execute_result",
          "data": {
            "text/plain": [
              "[<matplotlib.lines.Line2D at 0x7fec080bc240>]"
            ]
          },
          "metadata": {
            "tags": []
          },
          "execution_count": 85
        },
        {
          "output_type": "display_data",
          "data": {
            "image/png": "[encoded data removed]",
            "text/plain": [
              "<matplotlib.figure.Figure at 0x7fec07d17438>"
            ]
          },
          "metadata": {
            "tags": []
          }
        }
      ]
    }
  ]
}