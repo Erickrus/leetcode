{
  "nbformat": 4,
  "nbformat_minor": 0,
  "metadata": {
    "colab": {
      "name": "Scorecard.ipynb",
      "version": "0.3.2",
      "provenance": [],
      "collapsed_sections": [],
      "include_colab_link": true
    },
    "kernelspec": {
      "name": "python3",
      "display_name": "Python 3"
    }
  },
  "cells": [
    {
      "cell_type": "markdown",
      "metadata": {
        "id": "view-in-github",
        "colab_type": "text"
      },
      "source": [
        "<a href=\"https://colab.research.google.com/github/Erickrus/leetcode/blob/master/Scorecard.ipynb\" target=\"_parent\"><img src=\"https://colab.research.google.com/assets/colab-badge.svg\" alt=\"Open In Colab\"/></a>"
      ]
    },
    {
      "metadata": {
        "id": "BsjHRHzDjxkf",
        "colab_type": "code",
        "colab": {
          "base_uri": "https://localhost:8080/",
          "height": 53
        },
        "outputId": "2cfe67d6-225f-4487-c033-27f37678cd4b"
      },
      "cell_type": "code",
      "source": [
        "import math\n",
        "\n",
        "class Scorecard:\n",
        "  def __init__(self, P0, PDO, p):\n",
        "    self.P0 = P0\n",
        "    self.PDO = PDO\n",
        "    self.p = p\n",
        "    odds = p/(1.0-p)\n",
        "    self.B = PDO / math.log(2.0)\n",
        "    self.A = P0 + self.B * math.log(odds)\n",
        "    \n",
        "  def score(self, p):\n",
        "    return self.A - self.B * math.log(p/(1-p))\n",
        "\n",
        "scorecard = Scorecard(600.0, 20.0, 1./60.0)\n",
        "print(scorecard.A, scorecard.B)\n",
        "scorecard.score(1./120.0)"
      ],
      "execution_count": 13,
      "outputs": [
        {
          "output_type": "stream",
          "text": [
            "482.34713901276314 28.85390081777927\n"
          ],
          "name": "stdout"
        },
        {
          "output_type": "execute_result",
          "data": {
            "text/plain": [
              "620.2434942789221"
            ]
          },
          "metadata": {
            "tags": []
          },
          "execution_count": 13
        }
      ]
    }
  ]
}