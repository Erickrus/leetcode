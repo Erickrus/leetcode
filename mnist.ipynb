{
  "nbformat": 4,
  "nbformat_minor": 0,
  "metadata": {
    "colab": {
      "name": "mnist.ipynb",
      "version": "0.3.2",
      "provenance": [],
      "collapsed_sections": [],
      "include_colab_link": true
    },
    "kernelspec": {
      "name": "python3",
      "display_name": "Python 3"
    }
  },
  "cells": [
    {
      "cell_type": "markdown",
      "metadata": {
        "id": "view-in-github",
        "colab_type": "text"
      },
      "source": [
        "[View in Colaboratory](https://colab.research.google.com/github/Erickrus/leetcode/blob/master/mnist.ipynb)"
      ]
    },
    {
      "metadata": {
        "id": "QRgiQg0SB4l-",
        "colab_type": "code",
        "colab": {}
      },
      "cell_type": "code",
      "source": [
        "from google.colab import drive\n",
        "drive.mount('/content/drive')\n",
        "\n",
        "!ls -al /content/drive/My Drive"
      ],
      "execution_count": 0,
      "outputs": []
    },
    {
      "metadata": {
        "id": "LLb5QvXEEeYC",
        "colab_type": "code",
        "colab": {
          "base_uri": "https://localhost:8080/",
          "height": 595
        },
        "outputId": "6ff2d008-a333-43aa-906e-621e3718f28c"
      },
      "cell_type": "code",
      "source": [
        "import tensorflow as tf  \n",
        "import sys  \n",
        "from tensorflow.examples.tutorials.mnist import input_data  \n",
        "  \n",
        "mnist = input_data.read_data_sets(\"/content/drive/My Drive/MNIST_data/\", one_hot=True)  \n",
        "  \n",
        "x = tf.placeholder(\"float\", [None, 784])  \n",
        "W = tf.Variable(tf.zeros([784,10]))  \n",
        "b = tf.Variable(tf.zeros([10]))  \n",
        "  \n",
        "y = tf.nn.softmax(tf.matmul(x,W) + b)  \n",
        "  \n",
        "y_ = tf.placeholder(\"float\", [None,10])  \n",
        "cross_entropy = -tf.reduce_sum(y_*tf.log(y))  \n",
        "  \n",
        "train_step = tf.train.GradientDescentOptimizer(0.01).minimize(cross_entropy)  \n",
        "  \n",
        "init = tf.global_variables_initializer()  \n",
        "sess = tf.Session()  \n",
        "sess.run(init)  \n",
        "  \n",
        "for i in range(1000):  \n",
        "  if i % 20 == 0:  \n",
        "    sys.stdout.write('.')  \n",
        "  batch_xs, batch_ys = mnist.train.next_batch(100)  \n",
        "  sess.run(train_step, feed_dict={x: batch_xs, y_: batch_ys})\n",
        "  \n",
        "print(\"\")\n",
        "  \n",
        "correct_prediction = tf.equal(tf.argmax(y,1), tf.argmax(y_,1))  \n",
        "accuracy = tf.reduce_mean(tf.cast(correct_prediction, \"float\"))  \n",
        "  \n",
        "print(sess.run(accuracy, feed_dict={x: mnist.test.images, y_: mnist.test.labels}))"
      ],
      "execution_count": 5,
      "outputs": [
        {
          "output_type": "stream",
          "text": [
            "WARNING:tensorflow:From <ipython-input-5-30f741ecd040>:5: read_data_sets (from tensorflow.contrib.learn.python.learn.datasets.mnist) is deprecated and will be removed in a future version.\n",
            "Instructions for updating:\n",
            "Please use alternatives such as official/mnist/dataset.py from tensorflow/models.\n",
            "WARNING:tensorflow:From /usr/local/lib/python3.6/dist-packages/tensorflow/contrib/learn/python/learn/datasets/mnist.py:260: maybe_download (from tensorflow.contrib.learn.python.learn.datasets.base) is deprecated and will be removed in a future version.\n",
            "Instructions for updating:\n",
            "Please write your own downloading logic.\n",
            "WARNING:tensorflow:From /usr/local/lib/python3.6/dist-packages/tensorflow/contrib/learn/python/learn/datasets/base.py:252: _internal_retry.<locals>.wrap.<locals>.wrapped_fn (from tensorflow.contrib.learn.python.learn.datasets.base) is deprecated and will be removed in a future version.\n",
            "Instructions for updating:\n",
            "Please use urllib or similar directly.\n",
            "Successfully downloaded train-images-idx3-ubyte.gz 9912422 bytes.\n",
            "WARNING:tensorflow:From /usr/local/lib/python3.6/dist-packages/tensorflow/contrib/learn/python/learn/datasets/mnist.py:262: extract_images (from tensorflow.contrib.learn.python.learn.datasets.mnist) is deprecated and will be removed in a future version.\n",
            "Instructions for updating:\n",
            "Please use tf.data to implement this functionality.\n",
            "Extracting /content/drive/My Drive/MNIST_data/train-images-idx3-ubyte.gz\n",
            "Successfully downloaded train-labels-idx1-ubyte.gz 28881 bytes.\n",
            "WARNING:tensorflow:From /usr/local/lib/python3.6/dist-packages/tensorflow/contrib/learn/python/learn/datasets/mnist.py:267: extract_labels (from tensorflow.contrib.learn.python.learn.datasets.mnist) is deprecated and will be removed in a future version.\n",
            "Instructions for updating:\n",
            "Please use tf.data to implement this functionality.\n",
            "Extracting /content/drive/My Drive/MNIST_data/train-labels-idx1-ubyte.gz\n",
            "WARNING:tensorflow:From /usr/local/lib/python3.6/dist-packages/tensorflow/contrib/learn/python/learn/datasets/mnist.py:110: dense_to_one_hot (from tensorflow.contrib.learn.python.learn.datasets.mnist) is deprecated and will be removed in a future version.\n",
            "Instructions for updating:\n",
            "Please use tf.one_hot on tensors.\n",
            "Successfully downloaded t10k-images-idx3-ubyte.gz 1648877 bytes.\n",
            "Extracting /content/drive/My Drive/MNIST_data/t10k-images-idx3-ubyte.gz\n",
            "Successfully downloaded t10k-labels-idx1-ubyte.gz 4542 bytes.\n",
            "Extracting /content/drive/My Drive/MNIST_data/t10k-labels-idx1-ubyte.gz\n",
            "WARNING:tensorflow:From /usr/local/lib/python3.6/dist-packages/tensorflow/contrib/learn/python/learn/datasets/mnist.py:290: DataSet.__init__ (from tensorflow.contrib.learn.python.learn.datasets.mnist) is deprecated and will be removed in a future version.\n",
            "Instructions for updating:\n",
            "Please use alternatives such as official/mnist/dataset.py from tensorflow/models.\n",
            "..................................................\n",
            "0.9098\n"
          ],
          "name": "stdout"
        }
      ]
    }
  ]
}