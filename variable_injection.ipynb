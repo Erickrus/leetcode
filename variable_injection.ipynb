{
  "nbformat": 4,
  "nbformat_minor": 0,
  "metadata": {
    "colab": {
      "name": "variable_injection.ipynb",
      "provenance": [],
      "authorship_tag": "ABX9TyMeY4H62hQ14EOwZMZ8CoIa",
      "include_colab_link": true
    },
    "kernelspec": {
      "name": "python3",
      "display_name": "Python 3"
    }
  },
  "cells": [
    {
      "cell_type": "markdown",
      "metadata": {
        "id": "view-in-github",
        "colab_type": "text"
      },
      "source": [
        "<a href=\"https://colab.research.google.com/github/Erickrus/leetcode/blob/master/variable_injection.ipynb\" target=\"_parent\"><img src=\"https://colab.research.google.com/assets/colab-badge.svg\" alt=\"Open In Colab\"/></a>"
      ]
    },
    {
      "cell_type": "markdown",
      "metadata": {
        "id": "q2a553zs5Ez0"
      },
      "source": [
        "**Variable Injection**\r\n",
        "Variable injection is a skill to change the value of any running cell. So during the long running job. you can tune or change the value as you wish."
      ]
    },
    {
      "cell_type": "code",
      "metadata": {
        "id": "oMgjeqWM5DUV"
      },
      "source": [
        "## Infrastructure\r\n",
        "import threading\r\n",
        "import queue\r\n",
        "import time\r\n",
        "\r\n",
        "class GracefullyStop:\r\n",
        "  def __init__(self, stopping=False):\r\n",
        "    self.stopping = stopping\r\n",
        "\r\n",
        "\r\n",
        "class RunnableStdout(threading.Thread):\r\n",
        "  def __init__(self, stdout, gracefullyStop, *args, **kwargs):\r\n",
        "    super().__init__(*args, **kwargs)  \r\n",
        "    self.stdout = stdout\r\n",
        "    self.gracefullyStop = gracefullyStop\r\n",
        "\r\n",
        "  def run(self):\r\n",
        "    while True:\r\n",
        "      if self.gracefullyStop.stopping:\r\n",
        "        break\r\n",
        "      time.sleep(0.01)\r\n",
        "      try:\r\n",
        "        line=self.stdout.get(timeout=10.)\r\n",
        "        print(line)\r\n",
        "      except:\r\n",
        "        pass\r\n",
        "    print(\"stdout stopped\")\r\n",
        "\r\n",
        "class Runnable(threading.Thread):\r\n",
        "  def __init__(self, callable, param={},*args, **kwargs):\r\n",
        "    super().__init__(*args, **kwargs)\r\n",
        "    self.callable = callable\r\n",
        "    self.param = param\r\n",
        "    self.gracefullyStop = GracefullyStop()\r\n",
        "    self.stdout = queue.Queue()\r\n",
        "    self.runnableStdout = RunnableStdout(self.stdout, self.gracefullyStop)\r\n",
        "  def run(self):\r\n",
        "    self.runnableStdout.start()\r\n",
        "    self.callable(self.gracefullyStop, self.param, self.stdout)\r\n",
        "    #self.runnableStdout.join()\r\n",
        "    print(\"Runnable stopped\")\r\n",
        "    #time.sleep(1)\r\n",
        "\r\n",
        "  def stop(self):\r\n",
        "    self.gracefullyStop.stopping = True\r\n",
        "\r\n"
      ],
      "execution_count": 121,
      "outputs": []
    },
    {
      "cell_type": "code",
      "metadata": {
        "id": "-Uzg5UIN5lef"
      },
      "source": [
        "import time\r\n",
        "a = 0\r\n",
        "def a_piece_of_code(gracefullyStop, param, stdout):\r\n",
        "  global a \r\n",
        "  for i in range(40):\r\n",
        "    a +=1\r\n",
        "    stdout.put(str(a))\r\n",
        "    time.sleep(3)\r\n",
        "    if gracefullyStop.stopping:\r\n",
        "      break\r\n",
        "  print(\"a_piece_of_code stopped\")\r\n",
        "  time.sleep(1)"
      ],
      "execution_count": 122,
      "outputs": []
    },
    {
      "cell_type": "code",
      "metadata": {
        "id": "IGrVlWSN6OXW"
      },
      "source": [
        "r = Runnable(a_piece_of_code)\r\n",
        "r.start()"
      ],
      "execution_count": 123,
      "outputs": []
    },
    {
      "cell_type": "code",
      "metadata": {
        "id": "5sVh64wO6qnV"
      },
      "source": [
        "r.stop()"
      ],
      "execution_count": 132,
      "outputs": []
    }
  ]
}