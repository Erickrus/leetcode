{
  "nbformat": 4,
  "nbformat_minor": 0,
  "metadata": {
    "colab": {
      "name": "leetcode.ipynb",
      "version": "0.3.2",
      "provenance": [],
      "include_colab_link": true
    },
    "kernelspec": {
      "name": "python3",
      "display_name": "Python 3"
    }
  },
  "cells": [
    {
      "cell_type": "markdown",
      "metadata": {
        "id": "view-in-github",
        "colab_type": "text"
      },
      "source": [
        "[View in Colaboratory](https://colab.research.google.com/github/Erickrus/leetcode/blob/master/leetcode.ipynb)"
      ]
    },
    {
      "metadata": {
        "id": "QnkifvS4Y7MF",
        "colab_type": "code",
        "colab": {}
      },
      "cell_type": "code",
      "source": [
        "# @leetcode\n"
      ],
      "execution_count": 0,
      "outputs": []
    },
    {
      "metadata": {
        "id": "ZUUpF4NFZQjG",
        "colab_type": "code",
        "colab": {
          "base_uri": "https://localhost:8080/",
          "height": 35
        },
        "outputId": "164f0a5f-bafb-4127-ce87-86ffa565b470"
      },
      "cell_type": "code",
      "source": [
        "#@title Frog Jump\n",
        "\n",
        "# https://leetcode.com/problems/frog-jump/description/\n",
        "\n",
        "class Solution:\n",
        "  def __init__(self):\n",
        "    self.memory = {}\n",
        "    \n",
        "  def canCross(self, stones):\n",
        "    return self._canCross(stones,0,0)\n",
        "    \n",
        "  def _canCross(self, stones, start, k):\n",
        "    if (start, k) in self.memory:\n",
        "      return self.memory[(start, k)]\n",
        "    \n",
        "    if start == len(stones)-1:\n",
        "      self.memory[(start, k)] = True\n",
        "      return True\n",
        "  \n",
        "    candidates = []\n",
        "    for i in range(start+1, len(stones)):\n",
        "      jumpLen = stones[i] - stones[start]\n",
        "      if jumpLen > k + 1:\n",
        "        break;\n",
        "      else:\n",
        "        if abs(jumpLen - k) <= 1:\n",
        "          candidates.append([i, jumpLen])\n",
        "\n",
        "    if len(candidates) == 0:\n",
        "      self.memory[(start, k)] = False\n",
        "      return False\n",
        "    \n",
        "    candidates = list(reversed(candidates))\n",
        "    #print(start, len(candidates))\n",
        "    res = False\n",
        "    for candidate in candidates:\n",
        "      if self._canCross(stones, candidate[0], candidate[1]):\n",
        "        res = True\n",
        "        break\n",
        "    \n",
        "    self.memory[(start, k)] = res\n",
        "    return res\n"
      ],
      "execution_count": 45,
      "outputs": [
        {
          "output_type": "stream",
          "text": [
            "False\n"
          ],
          "name": "stdout"
        }
      ]
    }
  ]
}