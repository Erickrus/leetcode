{
  "nbformat": 4,
  "nbformat_minor": 0,
  "metadata": {
    "colab": {
      "name": "lagrangian_interpolation.ipynb",
      "version": "0.3.2",
      "provenance": [],
      "include_colab_link": true
    },
    "kernelspec": {
      "name": "python3",
      "display_name": "Python 3"
    }
  },
  "cells": [
    {
      "cell_type": "markdown",
      "metadata": {
        "id": "view-in-github",
        "colab_type": "text"
      },
      "source": [
        "<a href=\"https://colab.research.google.com/github/Erickrus/leetcode/blob/master/lagrangian_interpolation.ipynb\" target=\"_parent\"><img src=\"https://colab.research.google.com/assets/colab-badge.svg\" alt=\"Open In Colab\"/></a>"
      ]
    },
    {
      "cell_type": "code",
      "metadata": {
        "id": "cbaYoQBiyBA5",
        "colab_type": "code",
        "outputId": "14443be4-deeb-446c-994d-9378e475ae10",
        "colab": {
          "base_uri": "https://localhost:8080/",
          "height": 34
        }
      },
      "source": [
        "import numpy as np\n",
        "import matplotlib.pyplot as plt\n",
        "\n",
        "class LagrangianInterpolation:\n",
        "  # pts is an list containing xs and ys\n",
        "  def __init__(self, pts):\n",
        "    self.pts = pts\n",
        "    self.order = len(self.pts[0])\n",
        "\n",
        "  def interpolate(self, x):\n",
        "    l = []\n",
        "    \n",
        "    for j in range(self.order):\n",
        "      prod = 1.0\n",
        "      for m in range(self.order):\n",
        "        if m != j:\n",
        "          prod *= (\n",
        "              (float(x)              - float(self.pts[0][m])) / \\\n",
        "              (float(self.pts[0][j]) - float(self.pts[0][m]))\n",
        "          )\n",
        "      l.append(prod)\n",
        "    res = 0.0\n",
        "    for m in range(self.order):\n",
        "      res += l[m] * self.pts[1][m]\n",
        "    return res\n",
        "\n",
        "  \n",
        "pts = [[1,3,4,5],[1,9,16,25]]\n",
        "li = LagrangianInterpolation(pts)\n",
        "li.interpolate(1.5)\n",
        "\n"
      ],
      "execution_count": 0,
      "outputs": [
        {
          "output_type": "execute_result",
          "data": {
            "text/plain": [
              "2.25"
            ]
          },
          "metadata": {
            "tags": []
          },
          "execution_count": 72
        }
      ]
    }
  ]
}