{
  "nbformat": 4,
  "nbformat_minor": 0,
  "metadata": {
    "colab": {
      "name": "node2vec.ipynb",
      "version": "0.3.2",
      "provenance": [],
      "collapsed_sections": [],
      "include_colab_link": true
    },
    "kernelspec": {
      "name": "python3",
      "display_name": "Python 3"
    }
  },
  "cells": [
    {
      "cell_type": "markdown",
      "metadata": {
        "id": "view-in-github",
        "colab_type": "text"
      },
      "source": [
        "<a href=\"https://colab.research.google.com/github/Erickrus/leetcode/blob/master/node2vec.ipynb\" target=\"_parent\"><img src=\"https://colab.research.google.com/assets/colab-badge.svg\" alt=\"Open In Colab\"/></a>"
      ]
    },
    {
      "metadata": {
        "id": "20HnE_-T_ygn",
        "colab_type": "code",
        "colab": {}
      },
      "cell_type": "code",
      "source": [
        "!pip3 install git+https://github.com/eliorc/node2vec\n",
        "!pip3 install networkx\n",
        "!pip install paramiko"
      ],
      "execution_count": 0,
      "outputs": []
    },
    {
      "metadata": {
        "id": "RANGuGRGAB_e",
        "colab_type": "code",
        "colab": {}
      },
      "cell_type": "code",
      "source": [
        "import gensim, node2vec\n",
        "import networkx as nx\n",
        "import node2vec.edges"
      ],
      "execution_count": 0,
      "outputs": []
    },
    {
      "metadata": {
        "id": "c1A5PsaZATZQ",
        "colab_type": "code",
        "colab": {}
      },
      "cell_type": "code",
      "source": [
        "# Create a graph\n",
        "graph = nx.fast_gnp_random_graph(n=100, p=0.5)\n",
        "\n",
        "# Precompute probabilities and generate walks - **ON WINDOWS ONLY WORKS WITH workers=1**\n",
        "n2v = node2vec.Node2Vec(\n",
        "    graph, \n",
        "    dimensions=64, \n",
        "    walk_length=30, \n",
        "    num_walks=200, \n",
        "    workers=4\n",
        ")  # Use temp_folder for big graphs\n",
        "\n",
        "# Embed nodes\n",
        "model = n2v.fit(\n",
        "    window=10, \n",
        "    min_count=1, \n",
        "    batch_words=4\n",
        ")  # Any keywords acceptable by gensim.Word2Vec can be passed, `diemnsions` and `workers` are automatically passed (from the Node2Vec constructor)\n",
        "\n",
        "# Look for most similar nodes\n",
        "model.wv.most_similar('2')  # Output node names are always strings\n"
      ],
      "execution_count": 0,
      "outputs": []
    },
    {
      "metadata": {
        "id": "ewBHHYdQB2sE",
        "colab_type": "code",
        "colab": {}
      },
      "cell_type": "code",
      "source": [
        "EMBEDDING_FILENAME = \"/tmp/emb\"\n",
        "EMBEDDING_MODEL_FILENAME = \"/tmp/emb_model\"\n",
        "EDGES_EMBEDDING_FILENAME = \"/tmp/emb_edge\"\n",
        "\n",
        "# Save embeddings for later use\n",
        "model.wv.save_word2vec_format(EMBEDDING_FILENAME)\n",
        "\n",
        "# Save model for later use\n",
        "model.save(EMBEDDING_MODEL_FILENAME)\n",
        "\n",
        "edges_embs = node2vec.edges.HadamardEmbedder(keyed_vectors=model.wv)\n",
        "\n",
        "# Look for embeddings on the fly - here we pass normal tuples\n",
        "print(edges_embs[('1', '2')])\n",
        "''' OUTPUT\n",
        "array([ 5.75068220e-03, -1.10937878e-02,  3.76693785e-01,  2.69105062e-02,\n",
        "       ... ... ....\n",
        "       ..................................................................],\n",
        "      dtype=float32)\n",
        "'''\n",
        "\n",
        "# Get all edges in a separate KeyedVectors instance - use with caution could be huge for big networks\n",
        "edges_kv = edges_embs.as_keyed_vectors()\n",
        "\n",
        "# Look for most similar edges - this time tuples must be sorted and as str\n",
        "edges_kv.most_similar(str(('1', '2')))\n",
        "\n",
        "# Save embeddings for later use\n",
        "edges_kv.save_word2vec_format(EDGES_EMBEDDING_FILENAME)"
      ],
      "execution_count": 0,
      "outputs": []
    },
    {
      "metadata": {
        "id": "hjVxybkyDc9X",
        "colab_type": "code",
        "outputId": "707a2ef3-c5e0-4a57-caaf-6ac297fe74eb",
        "colab": {
          "base_uri": "https://localhost:8080/",
          "height": 68
        }
      },
      "cell_type": "code",
      "source": [
        "!ls -al /tmp/emb*"
      ],
      "execution_count": 0,
      "outputs": [
        {
          "output_type": "stream",
          "text": [
            "-rw-r--r-- 1 root root   72901 Apr 12 05:33 /tmp/emb\n",
            "-rw-r--r-- 1 root root 6770639 Apr 12 05:33 /tmp/emb_edge\n",
            "-rw-r--r-- 1 root root   88252 Apr 12 05:33 /tmp/emb_model\n"
          ],
          "name": "stdout"
        }
      ]
    }
  ]
}